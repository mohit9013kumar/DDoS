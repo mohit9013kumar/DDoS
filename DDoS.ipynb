{
 "cells": [
  {
   "cell_type": "markdown",
   "metadata": {},
   "source": [
    "#### Importing libs:"
   ]
  },
  {
   "cell_type": "code",
   "execution_count": 1,
   "metadata": {},
   "outputs": [],
   "source": [
    "import pandas as pd\n",
    "import numpy as np\n",
    "import matplotlib.pyplot as plt\n",
    "import seaborn as sns\n",
    "from tqdm.notebook import tqdm_notebook\n",
    "from sklearn import preprocessing\n",
    "from sklearn.feature_selection import SelectFromModel\n",
    "from sklearn.ensemble import RandomForestClassifier\n",
    "from sklearn.linear_model import LogisticRegression\n",
    "from tqdm import tqdm_notebook as tqdm\n",
    "from xgboost import XGBClassifier\n",
    "from sklearn.model_selection import RandomizedSearchCV\n",
    "from sklearn.tree import DecisionTreeClassifier\n",
    "from sklearn.model_selection import train_test_split\n",
    "from sklearn.preprocessing import Normalizer\n",
    "from sklearn.metrics import f1_score\n",
    "from sklearn.metrics import plot_confusion_matrix\n",
    "from sklearn.ensemble import AdaBoostClassifier\n",
    "from sklearn.neural_network import MLPClassifier\n",
    "# from sklearn.model_selection import cross_val_score\n",
    "from sklearn.model_selection import cross_validate\n",
    "from sklearn.naive_bayes import GaussianNB\n",
    "from sklearn import svm\n",
    "\n",
    "import pickle\n",
    "import random\n",
    "import warnings\n",
    "warnings.filterwarnings('ignore')"
   ]
  },
  {
   "cell_type": "markdown",
   "metadata": {
    "id": "Q8Rdsfeqz7sq"
   },
   "source": [
    "#### Reading dataset"
   ]
  },
  {
   "cell_type": "code",
   "execution_count": 2,
   "metadata": {
    "colab": {
     "base_uri": "https://localhost:8080/",
     "height": 491
    },
    "id": "w7VQV1HY4FM8",
    "outputId": "082f8a6c-78a9-4d4c-d8bb-93acfe2e22aa"
   },
   "outputs": [
    {
     "name": "stdout",
     "output_type": "stream",
     "text": [
      "Dataframe shape (7616509, 85)\n"
     ]
    },
    {
     "data": {
      "text/html": [
       "<div>\n",
       "<style scoped>\n",
       "    .dataframe tbody tr th:only-of-type {\n",
       "        vertical-align: middle;\n",
       "    }\n",
       "\n",
       "    .dataframe tbody tr th {\n",
       "        vertical-align: top;\n",
       "    }\n",
       "\n",
       "    .dataframe thead th {\n",
       "        text-align: right;\n",
       "    }\n",
       "</style>\n",
       "<table border=\"1\" class=\"dataframe\">\n",
       "  <thead>\n",
       "    <tr style=\"text-align: right;\">\n",
       "      <th></th>\n",
       "      <th>Unnamed: 0</th>\n",
       "      <th>Flow ID</th>\n",
       "      <th>Src IP</th>\n",
       "      <th>Src Port</th>\n",
       "      <th>Dst IP</th>\n",
       "      <th>Dst Port</th>\n",
       "      <th>Protocol</th>\n",
       "      <th>Timestamp</th>\n",
       "      <th>Flow Duration</th>\n",
       "      <th>Tot Fwd Pkts</th>\n",
       "      <th>...</th>\n",
       "      <th>Fwd Seg Size Min</th>\n",
       "      <th>Active Mean</th>\n",
       "      <th>Active Std</th>\n",
       "      <th>Active Max</th>\n",
       "      <th>Active Min</th>\n",
       "      <th>Idle Mean</th>\n",
       "      <th>Idle Std</th>\n",
       "      <th>Idle Max</th>\n",
       "      <th>Idle Min</th>\n",
       "      <th>Label</th>\n",
       "    </tr>\n",
       "  </thead>\n",
       "  <tbody>\n",
       "    <tr>\n",
       "      <th>0</th>\n",
       "      <td>1739476</td>\n",
       "      <td>172.31.69.25-18.219.193.20-80-37882-6</td>\n",
       "      <td>18.219.193.20</td>\n",
       "      <td>37882</td>\n",
       "      <td>172.31.69.25</td>\n",
       "      <td>80</td>\n",
       "      <td>6</td>\n",
       "      <td>16/02/2018 11:27:29 PM</td>\n",
       "      <td>8660</td>\n",
       "      <td>1</td>\n",
       "      <td>...</td>\n",
       "      <td>0</td>\n",
       "      <td>0.0</td>\n",
       "      <td>0.0</td>\n",
       "      <td>0.0</td>\n",
       "      <td>0.0</td>\n",
       "      <td>0.0</td>\n",
       "      <td>0.0</td>\n",
       "      <td>0.0</td>\n",
       "      <td>0.0</td>\n",
       "      <td>ddos</td>\n",
       "    </tr>\n",
       "    <tr>\n",
       "      <th>1</th>\n",
       "      <td>1822666</td>\n",
       "      <td>172.31.69.28-18.219.9.1-80-63287-6</td>\n",
       "      <td>172.31.69.28</td>\n",
       "      <td>80</td>\n",
       "      <td>18.219.9.1</td>\n",
       "      <td>63287</td>\n",
       "      <td>6</td>\n",
       "      <td>22/02/2018 12:13:52 AM</td>\n",
       "      <td>5829</td>\n",
       "      <td>4</td>\n",
       "      <td>...</td>\n",
       "      <td>0</td>\n",
       "      <td>0.0</td>\n",
       "      <td>0.0</td>\n",
       "      <td>0.0</td>\n",
       "      <td>0.0</td>\n",
       "      <td>0.0</td>\n",
       "      <td>0.0</td>\n",
       "      <td>0.0</td>\n",
       "      <td>0.0</td>\n",
       "      <td>ddos</td>\n",
       "    </tr>\n",
       "    <tr>\n",
       "      <th>2</th>\n",
       "      <td>905739</td>\n",
       "      <td>172.31.69.28-52.14.136.135-80-63095-6</td>\n",
       "      <td>52.14.136.135</td>\n",
       "      <td>63095</td>\n",
       "      <td>172.31.69.28</td>\n",
       "      <td>80</td>\n",
       "      <td>6</td>\n",
       "      <td>22/02/2018 12:14:02 AM</td>\n",
       "      <td>3396</td>\n",
       "      <td>1</td>\n",
       "      <td>...</td>\n",
       "      <td>0</td>\n",
       "      <td>0.0</td>\n",
       "      <td>0.0</td>\n",
       "      <td>0.0</td>\n",
       "      <td>0.0</td>\n",
       "      <td>0.0</td>\n",
       "      <td>0.0</td>\n",
       "      <td>0.0</td>\n",
       "      <td>0.0</td>\n",
       "      <td>ddos</td>\n",
       "    </tr>\n",
       "    <tr>\n",
       "      <th>3</th>\n",
       "      <td>1143064</td>\n",
       "      <td>172.31.69.28-18.216.200.189-80-52341-6</td>\n",
       "      <td>18.216.200.189</td>\n",
       "      <td>52341</td>\n",
       "      <td>172.31.69.28</td>\n",
       "      <td>80</td>\n",
       "      <td>6</td>\n",
       "      <td>22/02/2018 12:28:04 AM</td>\n",
       "      <td>2390</td>\n",
       "      <td>1</td>\n",
       "      <td>...</td>\n",
       "      <td>0</td>\n",
       "      <td>0.0</td>\n",
       "      <td>0.0</td>\n",
       "      <td>0.0</td>\n",
       "      <td>0.0</td>\n",
       "      <td>0.0</td>\n",
       "      <td>0.0</td>\n",
       "      <td>0.0</td>\n",
       "      <td>0.0</td>\n",
       "      <td>ddos</td>\n",
       "    </tr>\n",
       "    <tr>\n",
       "      <th>4</th>\n",
       "      <td>1934016</td>\n",
       "      <td>172.31.69.28-18.218.55.126-80-57459-6</td>\n",
       "      <td>172.31.69.28</td>\n",
       "      <td>80</td>\n",
       "      <td>18.218.55.126</td>\n",
       "      <td>57459</td>\n",
       "      <td>6</td>\n",
       "      <td>22/02/2018 12:19:45 AM</td>\n",
       "      <td>17362</td>\n",
       "      <td>4</td>\n",
       "      <td>...</td>\n",
       "      <td>0</td>\n",
       "      <td>0.0</td>\n",
       "      <td>0.0</td>\n",
       "      <td>0.0</td>\n",
       "      <td>0.0</td>\n",
       "      <td>0.0</td>\n",
       "      <td>0.0</td>\n",
       "      <td>0.0</td>\n",
       "      <td>0.0</td>\n",
       "      <td>ddos</td>\n",
       "    </tr>\n",
       "  </tbody>\n",
       "</table>\n",
       "<p>5 rows × 85 columns</p>\n",
       "</div>"
      ],
      "text/plain": [
       "   Unnamed: 0                                 Flow ID          Src IP  \\\n",
       "0     1739476   172.31.69.25-18.219.193.20-80-37882-6   18.219.193.20   \n",
       "1     1822666      172.31.69.28-18.219.9.1-80-63287-6    172.31.69.28   \n",
       "2      905739   172.31.69.28-52.14.136.135-80-63095-6   52.14.136.135   \n",
       "3     1143064  172.31.69.28-18.216.200.189-80-52341-6  18.216.200.189   \n",
       "4     1934016   172.31.69.28-18.218.55.126-80-57459-6    172.31.69.28   \n",
       "\n",
       "   Src Port         Dst IP  Dst Port  Protocol               Timestamp  \\\n",
       "0     37882   172.31.69.25        80         6  16/02/2018 11:27:29 PM   \n",
       "1        80     18.219.9.1     63287         6  22/02/2018 12:13:52 AM   \n",
       "2     63095   172.31.69.28        80         6  22/02/2018 12:14:02 AM   \n",
       "3     52341   172.31.69.28        80         6  22/02/2018 12:28:04 AM   \n",
       "4        80  18.218.55.126     57459         6  22/02/2018 12:19:45 AM   \n",
       "\n",
       "   Flow Duration  Tot Fwd Pkts  ...  Fwd Seg Size Min  Active Mean  \\\n",
       "0           8660             1  ...                 0          0.0   \n",
       "1           5829             4  ...                 0          0.0   \n",
       "2           3396             1  ...                 0          0.0   \n",
       "3           2390             1  ...                 0          0.0   \n",
       "4          17362             4  ...                 0          0.0   \n",
       "\n",
       "   Active Std  Active Max  Active Min  Idle Mean  Idle Std  Idle Max  \\\n",
       "0         0.0         0.0         0.0        0.0       0.0       0.0   \n",
       "1         0.0         0.0         0.0        0.0       0.0       0.0   \n",
       "2         0.0         0.0         0.0        0.0       0.0       0.0   \n",
       "3         0.0         0.0         0.0        0.0       0.0       0.0   \n",
       "4         0.0         0.0         0.0        0.0       0.0       0.0   \n",
       "\n",
       "   Idle Min  Label  \n",
       "0       0.0   ddos  \n",
       "1       0.0   ddos  \n",
       "2       0.0   ddos  \n",
       "3       0.0   ddos  \n",
       "4       0.0   ddos  \n",
       "\n",
       "[5 rows x 85 columns]"
      ]
     },
     "execution_count": 2,
     "metadata": {},
     "output_type": "execute_result"
    }
   ],
   "source": [
    "filename = 'unbalaced_20_80_dataset.csv'\n",
    "\n",
    "data = pd.read_csv(filename, index_col=False)\n",
    "# data = pd.read_csv(filename, index_col=False, nrows=10000)\n",
    "print('Dataframe shape',data.shape)\n",
    "data.head()"
   ]
  },
  {
   "cell_type": "markdown",
   "metadata": {},
   "source": [
    "#### Checking which columns contain nan or infinite values:"
   ]
  },
  {
   "cell_type": "code",
   "execution_count": 3,
   "metadata": {},
   "outputs": [
    {
     "name": "stdout",
     "output_type": "stream",
     "text": [
      "Columns with null values:\n",
      " ['Flow Byts/s'] \n",
      "\n"
     ]
    },
    {
     "data": {
      "application/vnd.jupyter.widget-view+json": {
       "model_id": "8ca05256be3a4f42b440ea25458293de",
       "version_major": 2,
       "version_minor": 0
      },
      "text/plain": [
       "HBox(children=(FloatProgress(value=0.0, max=85.0), HTML(value='')))"
      ]
     },
     "metadata": {},
     "output_type": "display_data"
    },
    {
     "name": "stdout",
     "output_type": "stream",
     "text": [
      "\n",
      "\n",
      " Columns with inf or -inf values:\n",
      " ['Flow Byts/s', 'Flow Pkts/s'] \n",
      "\n"
     ]
    }
   ],
   "source": [
    "nan_col = data.columns[data.isna().any()].tolist()\n",
    "print('Columns with null values:\\n',nan_col,'\\n')\n",
    "\n",
    "infinity = [np.inf, -np.inf]\n",
    "inf_columns = []\n",
    "for col in tqdm(data.columns):\n",
    "    if data[col].isin(infinity).any():\n",
    "        inf_columns.append(col)\n",
    "print('\\n Columns with inf or -inf values:\\n',inf_columns,'\\n')"
   ]
  },
  {
   "cell_type": "markdown",
   "metadata": {},
   "source": [
    "#### Replacing inf with nan first, then we will replace all nan values with mean of the column:"
   ]
  },
  {
   "cell_type": "code",
   "execution_count": 4,
   "metadata": {},
   "outputs": [],
   "source": [
    "data.replace([np.inf, -np.inf], np.nan,inplace=True)"
   ]
  },
  {
   "cell_type": "markdown",
   "metadata": {
    "id": "B8ENGHsQBvHa"
   },
   "source": [
    "#### Filling all the remaining missing values by mean"
   ]
  },
  {
   "cell_type": "code",
   "execution_count": 5,
   "metadata": {
    "id": "t65XGgyGzGOt"
   },
   "outputs": [
    {
     "name": "stdout",
     "output_type": "stream",
     "text": [
      "Filling 'Flow Pkts/s' nan values with mean : 33400.4598157847\n",
      "Filling 'Flow Byts/s' nan values with mean : 330590.4234238568\n"
     ]
    }
   ],
   "source": [
    "print('Filling \\'Flow Pkts/s\\' nan values with mean :',data['Flow Pkts/s'].mean())\n",
    "print('Filling \\'Flow Byts/s\\' nan values with mean :',data['Flow Byts/s'].mean())\n",
    "\n",
    "data['Flow Byts/s'].fillna(data['Flow Byts/s'].mean(),inplace=True)\n",
    "data['Flow Pkts/s'].fillna(data['Flow Pkts/s'].mean(),inplace=True)\n",
    "# data.dropna(axis=0, how='any',inplace=True)"
   ]
  },
  {
   "cell_type": "markdown",
   "metadata": {},
   "source": [
    "#### Single valued and categorical features:"
   ]
  },
  {
   "cell_type": "code",
   "execution_count": 6,
   "metadata": {},
   "outputs": [
    {
     "data": {
      "application/vnd.jupyter.widget-view+json": {
       "model_id": "cedc6346f09649929c8fb127a026ccb6",
       "version_major": 2,
       "version_minor": 0
      },
      "text/plain": [
       "HBox(children=(FloatProgress(value=0.0, max=85.0), HTML(value='')))"
      ]
     },
     "metadata": {},
     "output_type": "display_data"
    },
    {
     "name": "stdout",
     "output_type": "stream",
     "text": [
      "\n",
      "Columns with single value:\n",
      " ['Fwd URG Flags' 'Bwd URG Flags' 'Fwd Byts/b Avg' 'Fwd Pkts/b Avg'\n",
      " 'Fwd Blk Rate Avg' 'Bwd Byts/b Avg' 'Bwd Pkts/b Avg' 'Bwd Blk Rate Avg'] \n",
      "\n",
      "Categorical columns:\n",
      " ['Fwd PSH Flags' 'Bwd PSH Flags' 'FIN Flag Cnt' 'SYN Flag Cnt'\n",
      " 'RST Flag Cnt' 'PSH Flag Cnt' 'ACK Flag Cnt' 'URG Flag Cnt'\n",
      " 'CWE Flag Count' 'ECE Flag Cnt' 'Label' 'y'] \n",
      "\n"
     ]
    }
   ],
   "source": [
    "drop_lst = []\n",
    "catfeat = []\n",
    "for col in tqdm(data.columns):\n",
    "    if len(data[col].unique())==1:\n",
    "        drop_lst.append(col)\n",
    "    elif len(data[col].unique())<=2:\n",
    "        catfeat.append(col)\n",
    "\n",
    "catfeat.append('y')     \n",
    "print('Columns with single value:\\n',np.array(drop_lst),'\\n')\n",
    "print('Categorical columns:\\n',np.array(catfeat),'\\n')"
   ]
  },
  {
   "cell_type": "markdown",
   "metadata": {},
   "source": [
    "### Trimming columns which are not required:"
   ]
  },
  {
   "cell_type": "markdown",
   "metadata": {},
   "source": [
    "<ul>\n",
    "    <li>Looking at the data above, We can drop flow id because it is just combination of: \n",
    "        <ul>\n",
    "            <li>'Src IP'</li>\n",
    "            <li>'Dst IP'</li>\n",
    "            <li>'Src Port'</li>\n",
    "            <li>'Dst Port'</li>\n",
    "            <li>'Protocol'.</li>\n",
    "        </ul>\n",
    "    <li>'Label' is our target column</li>\n",
    "    <li>Dropping 'Timestamp' and 'Unnamed: 0' columns.</li>\n",
    "    <li>Dropping columns with single value:</li>\n",
    "    <ul>\n",
    "        <li>'Fwd URG Flags'</li> \n",
    "        <li>'Bwd URG Flags'</li> \n",
    "        <li>'Fwd Byts/b Avg'</li> \n",
    "        <li>'Fwd Pkts/b Avg'</li>\n",
    "        <li>'Fwd Blk Rate Avg'</li> \n",
    "        <li>'Bwd Byts/b Avg'</li> \n",
    "        <li>'Bwd Pkts/b Avg'</li> \n",
    "        <li>'Bwd Blk Rate Avg']</li>\n",
    "    </ul>\n",
    "    <li>Src IP and Dst IP columns needs to be converted to numerical features</li>\n",
    "</ul>\n"
   ]
  },
  {
   "cell_type": "code",
   "execution_count": 7,
   "metadata": {
    "colab": {
     "base_uri": "https://localhost:8080/",
     "height": 119
    },
    "id": "xvfAlDIjBh6L",
    "outputId": "68770432-5104-447c-f32e-6dd1c4eefcd7"
   },
   "outputs": [
    {
     "name": "stdout",
     "output_type": "stream",
     "text": [
      "Dataframe shape before trimming: (7616509, 85)\n",
      "\n",
      "Dropping following columns:\n",
      " ['Fwd URG Flags' 'Bwd URG Flags' 'Fwd Byts/b Avg' 'Fwd Pkts/b Avg'\n",
      " 'Fwd Blk Rate Avg' 'Bwd Byts/b Avg' 'Bwd Pkts/b Avg' 'Bwd Blk Rate Avg'\n",
      " 'Label' 'Flow ID' 'Timestamp' 'Unnamed: 0']\n",
      "\n",
      "Dataframe shape after trimming: (7616509, 73)\n"
     ]
    }
   ],
   "source": [
    "print('Dataframe shape before trimming:',data.shape)\n",
    "# final_data = data\n",
    "drop_lst.extend(['Label','Flow ID','Timestamp','Unnamed: 0'])\n",
    "print('\\nDropping following columns:\\n',np.array(drop_lst))\n",
    "final_data = data.drop(drop_lst,axis=1)\n",
    "print('\\nDataframe shape after trimming:',final_data.shape)"
   ]
  },
  {
   "cell_type": "markdown",
   "metadata": {
    "id": "FwJglMGJ2kEm"
   },
   "source": [
    "### Feature Engineering 'Src IP' & 'Dst IP'\n",
    "For Ex:\n",
    "<ul>\n",
    "<li>172.31.69.25 &nbsp => 172316925</li>\n",
    "<li>18.219.193.20 => 1821919320</li>\n",
    "</ul>"
   ]
  },
  {
   "cell_type": "code",
   "execution_count": 8,
   "metadata": {
    "colab": {
     "base_uri": "https://localhost:8080/",
     "height": 213,
     "referenced_widgets": [
      "15346fe0ce404f71b0812470f512803d",
      "df39e19673094db1b850c1b293c4b3af",
      "0b7b0a76cd9348dfa043208bb7032d31",
      "0f06ec694ca84d98b3533b661dc4066e",
      "4bee7027762d425aa3f24f26b5a7ea4d",
      "01359dbd7dff4bd688f8f641655cb67d",
      "74fbb86776824f629d768b29066d6a4e",
      "8248a986222e475b884dc0b8b0e9813c",
      "1724f66029f6410f91a2bd0c72a9a32e",
      "525bf61f29464b3b9e81675eda33ab07",
      "e994064e3a2a4d52b805fdb539d22b26",
      "6c68a326a9d14659bca738c1933b84ee",
      "2be36f90928447279a79c57530be3ad2",
      "5797d3569ef6471ca10ce105cf3bc521",
      "8b20ddd56e2a446b935f6f63288b97db",
      "a1dc3108046b4ea0bcd241cc5b5bad0d",
      "4a48329e941c481faaf55e6792e536ec",
      "a9931cb84e0d4888801fef9ffc9f58e4",
      "72ce5bf3d32348079deb956dc981b7e1",
      "f8e780d1c89f4a1fa7593bcdf1c3e072",
      "7af4d212ec144ebfbfbd1dcc974626e4",
      "a42c9bfb7910447898ad9258a7241da2",
      "d9b349cbd0e34c338d6c049890dad922",
      "d682d49a671f477c9a34f1e507cf71e0",
      "f95b061ca3ca46c2a6ed55e008e3d997",
      "e4b68aa7f1394f1db2686f2e5054adec",
      "6f01be890b3a44e0878f8cb6c74b855e",
      "2fa7c123a1c8454082eb0f3f74d7c916",
      "c29d58e9d1764963bec8f57fc07c8e49",
      "6910a7bc0dbf4bf58b81b676bb32e574",
      "b1d962b8bbcb478fb2c8440b2fa77dcc",
      "39bc76abebd1462aa5fa0f3302313402"
     ]
    },
    "id": "EykaaZcdAAJf",
    "outputId": "40b65e3b-d5a1-4e3d-96d5-fa71aa48e657"
   },
   "outputs": [
    {
     "data": {
      "application/vnd.jupyter.widget-view+json": {
       "model_id": "c9c0e8aa249f44e1b04f586d8203887e",
       "version_major": 2,
       "version_minor": 0
      },
      "text/plain": [
       "HBox(children=(FloatProgress(value=1.0, bar_style='info', layout=Layout(width='20px'), max=1.0), HTML(value=''…"
      ]
     },
     "metadata": {},
     "output_type": "display_data"
    },
    {
     "name": "stdout",
     "output_type": "stream",
     "text": [
      "\n"
     ]
    },
    {
     "data": {
      "application/vnd.jupyter.widget-view+json": {
       "model_id": "9fd03b9a9be24342a00f101cccdaa491",
       "version_major": 2,
       "version_minor": 0
      },
      "text/plain": [
       "HBox(children=(FloatProgress(value=0.0, max=7616509.0), HTML(value='')))"
      ]
     },
     "metadata": {},
     "output_type": "display_data"
    },
    {
     "name": "stdout",
     "output_type": "stream",
     "text": [
      "\n"
     ]
    },
    {
     "data": {
      "application/vnd.jupyter.widget-view+json": {
       "model_id": "9be685123266434590b156df1fdf3121",
       "version_major": 2,
       "version_minor": 0
      },
      "text/plain": [
       "HBox(children=(FloatProgress(value=0.0, max=7616509.0), HTML(value='')))"
      ]
     },
     "metadata": {},
     "output_type": "display_data"
    },
    {
     "name": "stdout",
     "output_type": "stream",
     "text": [
      "\n"
     ]
    },
    {
     "data": {
      "application/vnd.jupyter.widget-view+json": {
       "model_id": "a112969ba358496aa01b42d9be55bdbd",
       "version_major": 2,
       "version_minor": 0
      },
      "text/plain": [
       "HBox(children=(FloatProgress(value=0.0, max=7616509.0), HTML(value='')))"
      ]
     },
     "metadata": {},
     "output_type": "display_data"
    },
    {
     "name": "stdout",
     "output_type": "stream",
     "text": [
      "\n"
     ]
    }
   ],
   "source": [
    "import warnings\n",
    "warnings.filterwarnings('ignore')\n",
    "tqdm().pandas()\n",
    "\n",
    "Y = data['Label']\n",
    "final_data['y'] = data['Label'].progress_apply(lambda x: 1 if x=='ddos' else 0)\n",
    "# timestamp = final_data['Timestamp']\n",
    "\n",
    "final_data['Src IP'] = data['Src IP'].progress_apply(lambda x: int(('').join(x.split('.'))))\n",
    "final_data['Dst IP'] = data['Dst IP'].progress_apply(lambda x: int(('').join(x.split('.'))))"
   ]
  },
  {
   "cell_type": "code",
   "execution_count": 9,
   "metadata": {},
   "outputs": [
    {
     "name": "stdout",
     "output_type": "stream",
     "text": [
      "\n",
      "Final data shape: (7616509, 74)\n"
     ]
    },
    {
     "data": {
      "text/html": [
       "<div>\n",
       "<style scoped>\n",
       "    .dataframe tbody tr th:only-of-type {\n",
       "        vertical-align: middle;\n",
       "    }\n",
       "\n",
       "    .dataframe tbody tr th {\n",
       "        vertical-align: top;\n",
       "    }\n",
       "\n",
       "    .dataframe thead th {\n",
       "        text-align: right;\n",
       "    }\n",
       "</style>\n",
       "<table border=\"1\" class=\"dataframe\">\n",
       "  <thead>\n",
       "    <tr style=\"text-align: right;\">\n",
       "      <th></th>\n",
       "      <th>Src IP</th>\n",
       "      <th>Src Port</th>\n",
       "      <th>Dst IP</th>\n",
       "      <th>Dst Port</th>\n",
       "      <th>Protocol</th>\n",
       "      <th>Flow Duration</th>\n",
       "      <th>Tot Fwd Pkts</th>\n",
       "      <th>Tot Bwd Pkts</th>\n",
       "      <th>TotLen Fwd Pkts</th>\n",
       "      <th>TotLen Bwd Pkts</th>\n",
       "      <th>...</th>\n",
       "      <th>Fwd Seg Size Min</th>\n",
       "      <th>Active Mean</th>\n",
       "      <th>Active Std</th>\n",
       "      <th>Active Max</th>\n",
       "      <th>Active Min</th>\n",
       "      <th>Idle Mean</th>\n",
       "      <th>Idle Std</th>\n",
       "      <th>Idle Max</th>\n",
       "      <th>Idle Min</th>\n",
       "      <th>y</th>\n",
       "    </tr>\n",
       "  </thead>\n",
       "  <tbody>\n",
       "    <tr>\n",
       "      <th>0</th>\n",
       "      <td>1821919320</td>\n",
       "      <td>37882</td>\n",
       "      <td>172316925</td>\n",
       "      <td>80</td>\n",
       "      <td>6</td>\n",
       "      <td>8660</td>\n",
       "      <td>1</td>\n",
       "      <td>1</td>\n",
       "      <td>0.0</td>\n",
       "      <td>0.0</td>\n",
       "      <td>...</td>\n",
       "      <td>0</td>\n",
       "      <td>0.0</td>\n",
       "      <td>0.0</td>\n",
       "      <td>0.0</td>\n",
       "      <td>0.0</td>\n",
       "      <td>0.0</td>\n",
       "      <td>0.0</td>\n",
       "      <td>0.0</td>\n",
       "      <td>0.0</td>\n",
       "      <td>1</td>\n",
       "    </tr>\n",
       "    <tr>\n",
       "      <th>1</th>\n",
       "      <td>172316928</td>\n",
       "      <td>80</td>\n",
       "      <td>1821991</td>\n",
       "      <td>63287</td>\n",
       "      <td>6</td>\n",
       "      <td>5829</td>\n",
       "      <td>4</td>\n",
       "      <td>3</td>\n",
       "      <td>935.0</td>\n",
       "      <td>298.0</td>\n",
       "      <td>...</td>\n",
       "      <td>0</td>\n",
       "      <td>0.0</td>\n",
       "      <td>0.0</td>\n",
       "      <td>0.0</td>\n",
       "      <td>0.0</td>\n",
       "      <td>0.0</td>\n",
       "      <td>0.0</td>\n",
       "      <td>0.0</td>\n",
       "      <td>0.0</td>\n",
       "      <td>1</td>\n",
       "    </tr>\n",
       "    <tr>\n",
       "      <th>2</th>\n",
       "      <td>5214136135</td>\n",
       "      <td>63095</td>\n",
       "      <td>172316928</td>\n",
       "      <td>80</td>\n",
       "      <td>6</td>\n",
       "      <td>3396</td>\n",
       "      <td>1</td>\n",
       "      <td>1</td>\n",
       "      <td>0.0</td>\n",
       "      <td>0.0</td>\n",
       "      <td>...</td>\n",
       "      <td>0</td>\n",
       "      <td>0.0</td>\n",
       "      <td>0.0</td>\n",
       "      <td>0.0</td>\n",
       "      <td>0.0</td>\n",
       "      <td>0.0</td>\n",
       "      <td>0.0</td>\n",
       "      <td>0.0</td>\n",
       "      <td>0.0</td>\n",
       "      <td>1</td>\n",
       "    </tr>\n",
       "    <tr>\n",
       "      <th>3</th>\n",
       "      <td>18216200189</td>\n",
       "      <td>52341</td>\n",
       "      <td>172316928</td>\n",
       "      <td>80</td>\n",
       "      <td>6</td>\n",
       "      <td>2390</td>\n",
       "      <td>1</td>\n",
       "      <td>1</td>\n",
       "      <td>0.0</td>\n",
       "      <td>0.0</td>\n",
       "      <td>...</td>\n",
       "      <td>0</td>\n",
       "      <td>0.0</td>\n",
       "      <td>0.0</td>\n",
       "      <td>0.0</td>\n",
       "      <td>0.0</td>\n",
       "      <td>0.0</td>\n",
       "      <td>0.0</td>\n",
       "      <td>0.0</td>\n",
       "      <td>0.0</td>\n",
       "      <td>1</td>\n",
       "    </tr>\n",
       "    <tr>\n",
       "      <th>4</th>\n",
       "      <td>172316928</td>\n",
       "      <td>80</td>\n",
       "      <td>1821855126</td>\n",
       "      <td>57459</td>\n",
       "      <td>6</td>\n",
       "      <td>17362</td>\n",
       "      <td>4</td>\n",
       "      <td>3</td>\n",
       "      <td>935.0</td>\n",
       "      <td>314.0</td>\n",
       "      <td>...</td>\n",
       "      <td>0</td>\n",
       "      <td>0.0</td>\n",
       "      <td>0.0</td>\n",
       "      <td>0.0</td>\n",
       "      <td>0.0</td>\n",
       "      <td>0.0</td>\n",
       "      <td>0.0</td>\n",
       "      <td>0.0</td>\n",
       "      <td>0.0</td>\n",
       "      <td>1</td>\n",
       "    </tr>\n",
       "  </tbody>\n",
       "</table>\n",
       "<p>5 rows × 74 columns</p>\n",
       "</div>"
      ],
      "text/plain": [
       "        Src IP  Src Port      Dst IP  Dst Port  Protocol  Flow Duration  \\\n",
       "0   1821919320     37882   172316925        80         6           8660   \n",
       "1    172316928        80     1821991     63287         6           5829   \n",
       "2   5214136135     63095   172316928        80         6           3396   \n",
       "3  18216200189     52341   172316928        80         6           2390   \n",
       "4    172316928        80  1821855126     57459         6          17362   \n",
       "\n",
       "   Tot Fwd Pkts  Tot Bwd Pkts  TotLen Fwd Pkts  TotLen Bwd Pkts  ...  \\\n",
       "0             1             1              0.0              0.0  ...   \n",
       "1             4             3            935.0            298.0  ...   \n",
       "2             1             1              0.0              0.0  ...   \n",
       "3             1             1              0.0              0.0  ...   \n",
       "4             4             3            935.0            314.0  ...   \n",
       "\n",
       "   Fwd Seg Size Min  Active Mean  Active Std  Active Max  Active Min  \\\n",
       "0                 0          0.0         0.0         0.0         0.0   \n",
       "1                 0          0.0         0.0         0.0         0.0   \n",
       "2                 0          0.0         0.0         0.0         0.0   \n",
       "3                 0          0.0         0.0         0.0         0.0   \n",
       "4                 0          0.0         0.0         0.0         0.0   \n",
       "\n",
       "   Idle Mean  Idle Std  Idle Max  Idle Min  y  \n",
       "0        0.0       0.0       0.0       0.0  1  \n",
       "1        0.0       0.0       0.0       0.0  1  \n",
       "2        0.0       0.0       0.0       0.0  1  \n",
       "3        0.0       0.0       0.0       0.0  1  \n",
       "4        0.0       0.0       0.0       0.0  1  \n",
       "\n",
       "[5 rows x 74 columns]"
      ]
     },
     "execution_count": 9,
     "metadata": {},
     "output_type": "execute_result"
    }
   ],
   "source": [
    "print('\\nFinal data shape:', final_data.shape)\n",
    "final_data.head()"
   ]
  },
  {
   "cell_type": "markdown",
   "metadata": {},
   "source": [
    "#### Separating Non-Categorical columns for data Normalization:"
   ]
  },
  {
   "cell_type": "code",
   "execution_count": 10,
   "metadata": {},
   "outputs": [
    {
     "name": "stdout",
     "output_type": "stream",
     "text": [
      "63\n",
      "['Src IP' 'Src Port' 'Dst IP' 'Dst Port' 'Protocol' 'Flow Duration'\n",
      " 'Tot Fwd Pkts' 'Tot Bwd Pkts' 'TotLen Fwd Pkts' 'TotLen Bwd Pkts'\n",
      " 'Fwd Pkt Len Max' 'Fwd Pkt Len Min' 'Fwd Pkt Len Mean' 'Fwd Pkt Len Std'\n",
      " 'Bwd Pkt Len Max' 'Bwd Pkt Len Min' 'Bwd Pkt Len Mean' 'Bwd Pkt Len Std'\n",
      " 'Flow Byts/s' 'Flow Pkts/s' 'Flow IAT Mean' 'Flow IAT Std' 'Flow IAT Max'\n",
      " 'Flow IAT Min' 'Fwd IAT Tot' 'Fwd IAT Mean' 'Fwd IAT Std' 'Fwd IAT Max'\n",
      " 'Fwd IAT Min' 'Bwd IAT Tot' 'Bwd IAT Mean' 'Bwd IAT Std' 'Bwd IAT Max'\n",
      " 'Bwd IAT Min' 'Fwd Header Len' 'Bwd Header Len' 'Fwd Pkts/s' 'Bwd Pkts/s'\n",
      " 'Pkt Len Min' 'Pkt Len Max' 'Pkt Len Mean' 'Pkt Len Std' 'Pkt Len Var'\n",
      " 'Down/Up Ratio' 'Pkt Size Avg' 'Fwd Seg Size Avg' 'Bwd Seg Size Avg'\n",
      " 'Subflow Fwd Pkts' 'Subflow Fwd Byts' 'Subflow Bwd Pkts'\n",
      " 'Subflow Bwd Byts' 'Init Fwd Win Byts' 'Init Bwd Win Byts'\n",
      " 'Fwd Act Data Pkts' 'Fwd Seg Size Min' 'Active Mean' 'Active Std'\n",
      " 'Active Max' 'Active Min' 'Idle Mean' 'Idle Std' 'Idle Max' 'Idle Min']\n"
     ]
    }
   ],
   "source": [
    "lst = [i for i in final_data.columns if i not in catfeat]\n",
    "print(len(lst))\n",
    "print(np.array(lst))"
   ]
  },
  {
   "cell_type": "markdown",
   "metadata": {},
   "source": [
    "#### Splitting train and test:"
   ]
  },
  {
   "cell_type": "code",
   "execution_count": 11,
   "metadata": {},
   "outputs": [
    {
     "name": "stdout",
     "output_type": "stream",
     "text": [
      "X_train shape: (6093207, 73)\n",
      "X_test shape: (1523302, 73)\n",
      "y_train shape: (6093207,)\n",
      "y_test shape: (1523302,)\n"
     ]
    }
   ],
   "source": [
    "label = final_data['y']\n",
    "X_train, X_test, y_train, y_test = train_test_split(final_data.drop(['y'],axis=1),label,test_size=0.2,random_state=42,stratify=label)\n",
    "print('X_train shape:',X_train.shape)\n",
    "print('X_test shape:',X_test.shape)\n",
    "print('y_train shape:',y_train.shape)\n",
    "print('y_test shape:',y_test.shape)"
   ]
  },
  {
   "cell_type": "markdown",
   "metadata": {},
   "source": [
    "#### Data Normalisation:"
   ]
  },
  {
   "cell_type": "code",
   "execution_count": 12,
   "metadata": {},
   "outputs": [
    {
     "data": {
      "application/vnd.jupyter.widget-view+json": {
       "model_id": "8a06eea9159b42e18fbbe920f5f95382",
       "version_major": 2,
       "version_minor": 0
      },
      "text/plain": [
       "HBox(children=(FloatProgress(value=0.0, max=63.0), HTML(value='')))"
      ]
     },
     "metadata": {},
     "output_type": "display_data"
    },
    {
     "name": "stdout",
     "output_type": "stream",
     "text": [
      "\n"
     ]
    }
   ],
   "source": [
    "for i in tqdm(lst):\n",
    "    minimum = X_train[i].min()\n",
    "    maximum = X_train[i].max()\n",
    "    X_train[i] = (X_train[i] - minimum)/(maximum - minimum)\n",
    "    X_test[i] = (X_test[i] - minimum)/(maximum - minimum)"
   ]
  },
  {
   "cell_type": "code",
   "execution_count": 13,
   "metadata": {},
   "outputs": [
    {
     "data": {
      "text/html": [
       "<div>\n",
       "<style scoped>\n",
       "    .dataframe tbody tr th:only-of-type {\n",
       "        vertical-align: middle;\n",
       "    }\n",
       "\n",
       "    .dataframe tbody tr th {\n",
       "        vertical-align: top;\n",
       "    }\n",
       "\n",
       "    .dataframe thead th {\n",
       "        text-align: right;\n",
       "    }\n",
       "</style>\n",
       "<table border=\"1\" class=\"dataframe\">\n",
       "  <thead>\n",
       "    <tr style=\"text-align: right;\">\n",
       "      <th></th>\n",
       "      <th>Src IP</th>\n",
       "      <th>Src Port</th>\n",
       "      <th>Dst IP</th>\n",
       "      <th>Dst Port</th>\n",
       "      <th>Protocol</th>\n",
       "      <th>Flow Duration</th>\n",
       "      <th>Tot Fwd Pkts</th>\n",
       "      <th>Tot Bwd Pkts</th>\n",
       "      <th>TotLen Fwd Pkts</th>\n",
       "      <th>TotLen Bwd Pkts</th>\n",
       "      <th>...</th>\n",
       "      <th>Fwd Act Data Pkts</th>\n",
       "      <th>Fwd Seg Size Min</th>\n",
       "      <th>Active Mean</th>\n",
       "      <th>Active Std</th>\n",
       "      <th>Active Max</th>\n",
       "      <th>Active Min</th>\n",
       "      <th>Idle Mean</th>\n",
       "      <th>Idle Std</th>\n",
       "      <th>Idle Max</th>\n",
       "      <th>Idle Min</th>\n",
       "    </tr>\n",
       "  </thead>\n",
       "  <tbody>\n",
       "    <tr>\n",
       "      <th>1994346</th>\n",
       "      <td>0.007718</td>\n",
       "      <td>0.753155</td>\n",
       "      <td>0.663078</td>\n",
       "      <td>0.001221</td>\n",
       "      <td>0.352941</td>\n",
       "      <td>0.458127</td>\n",
       "      <td>0.000008</td>\n",
       "      <td>0.000000</td>\n",
       "      <td>0.000000</td>\n",
       "      <td>0.000000e+00</td>\n",
       "      <td>...</td>\n",
       "      <td>0.0</td>\n",
       "      <td>0.416667</td>\n",
       "      <td>0.0</td>\n",
       "      <td>0.0</td>\n",
       "      <td>0.0</td>\n",
       "      <td>0.0</td>\n",
       "      <td>0.0</td>\n",
       "      <td>0.0</td>\n",
       "      <td>0.0</td>\n",
       "      <td>0.0</td>\n",
       "    </tr>\n",
       "    <tr>\n",
       "      <th>5837974</th>\n",
       "      <td>0.000772</td>\n",
       "      <td>0.990326</td>\n",
       "      <td>0.000007</td>\n",
       "      <td>0.000809</td>\n",
       "      <td>1.000000</td>\n",
       "      <td>0.000006</td>\n",
       "      <td>0.000004</td>\n",
       "      <td>0.000003</td>\n",
       "      <td>0.000005</td>\n",
       "      <td>1.045241e-07</td>\n",
       "      <td>...</td>\n",
       "      <td>0.0</td>\n",
       "      <td>0.166667</td>\n",
       "      <td>0.0</td>\n",
       "      <td>0.0</td>\n",
       "      <td>0.0</td>\n",
       "      <td>0.0</td>\n",
       "      <td>0.0</td>\n",
       "      <td>0.0</td>\n",
       "      <td>0.0</td>\n",
       "      <td>0.0</td>\n",
       "    </tr>\n",
       "    <tr>\n",
       "      <th>1396364</th>\n",
       "      <td>0.000028</td>\n",
       "      <td>0.750896</td>\n",
       "      <td>0.006751</td>\n",
       "      <td>0.006790</td>\n",
       "      <td>0.352941</td>\n",
       "      <td>0.000866</td>\n",
       "      <td>0.000012</td>\n",
       "      <td>0.000003</td>\n",
       "      <td>0.000000</td>\n",
       "      <td>0.000000e+00</td>\n",
       "      <td>...</td>\n",
       "      <td>0.0</td>\n",
       "      <td>0.416667</td>\n",
       "      <td>0.0</td>\n",
       "      <td>0.0</td>\n",
       "      <td>0.0</td>\n",
       "      <td>0.0</td>\n",
       "      <td>0.0</td>\n",
       "      <td>0.0</td>\n",
       "      <td>0.0</td>\n",
       "      <td>0.0</td>\n",
       "    </tr>\n",
       "    <tr>\n",
       "      <th>2540111</th>\n",
       "      <td>0.000772</td>\n",
       "      <td>0.788968</td>\n",
       "      <td>0.000007</td>\n",
       "      <td>0.000809</td>\n",
       "      <td>1.000000</td>\n",
       "      <td>0.000008</td>\n",
       "      <td>0.000004</td>\n",
       "      <td>0.000003</td>\n",
       "      <td>0.000004</td>\n",
       "      <td>3.010917e-07</td>\n",
       "      <td>...</td>\n",
       "      <td>0.0</td>\n",
       "      <td>0.166667</td>\n",
       "      <td>0.0</td>\n",
       "      <td>0.0</td>\n",
       "      <td>0.0</td>\n",
       "      <td>0.0</td>\n",
       "      <td>0.0</td>\n",
       "      <td>0.0</td>\n",
       "      <td>0.0</td>\n",
       "      <td>0.0</td>\n",
       "    </tr>\n",
       "    <tr>\n",
       "      <th>5945010</th>\n",
       "      <td>0.007718</td>\n",
       "      <td>0.762341</td>\n",
       "      <td>0.009087</td>\n",
       "      <td>0.001221</td>\n",
       "      <td>0.352941</td>\n",
       "      <td>0.000039</td>\n",
       "      <td>0.000008</td>\n",
       "      <td>0.000000</td>\n",
       "      <td>0.000000</td>\n",
       "      <td>0.000000e+00</td>\n",
       "      <td>...</td>\n",
       "      <td>0.0</td>\n",
       "      <td>0.416667</td>\n",
       "      <td>0.0</td>\n",
       "      <td>0.0</td>\n",
       "      <td>0.0</td>\n",
       "      <td>0.0</td>\n",
       "      <td>0.0</td>\n",
       "      <td>0.0</td>\n",
       "      <td>0.0</td>\n",
       "      <td>0.0</td>\n",
       "    </tr>\n",
       "  </tbody>\n",
       "</table>\n",
       "<p>5 rows × 73 columns</p>\n",
       "</div>"
      ],
      "text/plain": [
       "           Src IP  Src Port    Dst IP  Dst Port  Protocol  Flow Duration  \\\n",
       "1994346  0.007718  0.753155  0.663078  0.001221  0.352941       0.458127   \n",
       "5837974  0.000772  0.990326  0.000007  0.000809  1.000000       0.000006   \n",
       "1396364  0.000028  0.750896  0.006751  0.006790  0.352941       0.000866   \n",
       "2540111  0.000772  0.788968  0.000007  0.000809  1.000000       0.000008   \n",
       "5945010  0.007718  0.762341  0.009087  0.001221  0.352941       0.000039   \n",
       "\n",
       "         Tot Fwd Pkts  Tot Bwd Pkts  TotLen Fwd Pkts  TotLen Bwd Pkts  ...  \\\n",
       "1994346      0.000008      0.000000         0.000000     0.000000e+00  ...   \n",
       "5837974      0.000004      0.000003         0.000005     1.045241e-07  ...   \n",
       "1396364      0.000012      0.000003         0.000000     0.000000e+00  ...   \n",
       "2540111      0.000004      0.000003         0.000004     3.010917e-07  ...   \n",
       "5945010      0.000008      0.000000         0.000000     0.000000e+00  ...   \n",
       "\n",
       "         Fwd Act Data Pkts  Fwd Seg Size Min  Active Mean  Active Std  \\\n",
       "1994346                0.0          0.416667          0.0         0.0   \n",
       "5837974                0.0          0.166667          0.0         0.0   \n",
       "1396364                0.0          0.416667          0.0         0.0   \n",
       "2540111                0.0          0.166667          0.0         0.0   \n",
       "5945010                0.0          0.416667          0.0         0.0   \n",
       "\n",
       "         Active Max  Active Min  Idle Mean  Idle Std  Idle Max  Idle Min  \n",
       "1994346         0.0         0.0        0.0       0.0       0.0       0.0  \n",
       "5837974         0.0         0.0        0.0       0.0       0.0       0.0  \n",
       "1396364         0.0         0.0        0.0       0.0       0.0       0.0  \n",
       "2540111         0.0         0.0        0.0       0.0       0.0       0.0  \n",
       "5945010         0.0         0.0        0.0       0.0       0.0       0.0  \n",
       "\n",
       "[5 rows x 73 columns]"
      ]
     },
     "execution_count": 13,
     "metadata": {},
     "output_type": "execute_result"
    }
   ],
   "source": [
    "X_train.head()"
   ]
  },
  {
   "cell_type": "markdown",
   "metadata": {},
   "source": [
    "### For memory optimization lets free memory for final_data dataframe:"
   ]
  },
  {
   "cell_type": "code",
   "execution_count": 14,
   "metadata": {},
   "outputs": [],
   "source": [
    "del final_data"
   ]
  },
  {
   "cell_type": "markdown",
   "metadata": {},
   "source": [
    "### Cross-validation function:\n",
    "<font size=4>We will use this function to check performances of our models against different test sets for more accurate f1 and macro_f1 score.</font>"
   ]
  },
  {
   "cell_type": "code",
   "execution_count": 15,
   "metadata": {},
   "outputs": [],
   "source": [
    "def cross_validation(mod):\n",
    "    print('calling cross_val_score with cv=5 for test data:')\n",
    "    scoring = ['f1', 'f1_macro']\n",
    "    scores = cross_validate(mod, X_test, y_test, cv=5, scoring=scoring)\n",
    "    return scores"
   ]
  },
  {
   "cell_type": "markdown",
   "metadata": {},
   "source": [
    "## We will try various models listed below and will select the best one:\n",
    "<font size=4>\n",
    "<ol>\n",
    "    <li>Logistic Regression</li>\n",
    "    <li>Naive Bayes</li>\n",
    "    <li>Random Forest</li>\n",
    "    <li>Decision Tree</li>\n",
    "    <li>XgBoost</li>\n",
    "    <li>AdaBoost</li>\n",
    "    <li>LSTM</li>\n",
    "</ol>\n",
    "</font>"
   ]
  },
  {
   "cell_type": "markdown",
   "metadata": {},
   "source": [
    "## 1. LogicticRegression"
   ]
  },
  {
   "cell_type": "code",
   "execution_count": 15,
   "metadata": {},
   "outputs": [
    {
     "name": "stdout",
     "output_type": "stream",
     "text": [
      "Fitting 2 folds for each of 7 candidates, totalling 14 fits\n"
     ]
    },
    {
     "name": "stderr",
     "output_type": "stream",
     "text": [
      "[Parallel(n_jobs=1)]: Using backend SequentialBackend with 1 concurrent workers.\n"
     ]
    },
    {
     "name": "stdout",
     "output_type": "stream",
     "text": [
      "[CV] C=0.001 .........................................................\n",
      "[CV] ............................. C=0.001, score=0.910, total= 5.0min\n",
      "[CV] C=0.001 .........................................................\n"
     ]
    },
    {
     "name": "stderr",
     "output_type": "stream",
     "text": [
      "[Parallel(n_jobs=1)]: Done   1 out of   1 | elapsed:  5.0min remaining:    0.0s\n"
     ]
    },
    {
     "name": "stdout",
     "output_type": "stream",
     "text": [
      "[CV] ............................. C=0.001, score=0.909, total= 5.2min\n",
      "[CV] C=0.01 ..........................................................\n"
     ]
    },
    {
     "name": "stderr",
     "output_type": "stream",
     "text": [
      "[Parallel(n_jobs=1)]: Done   2 out of   2 | elapsed: 10.2min remaining:    0.0s\n"
     ]
    },
    {
     "name": "stdout",
     "output_type": "stream",
     "text": [
      "[CV] .............................. C=0.01, score=0.929, total=10.1min\n",
      "[CV] C=0.01 ..........................................................\n"
     ]
    },
    {
     "name": "stderr",
     "output_type": "stream",
     "text": [
      "[Parallel(n_jobs=1)]: Done   3 out of   3 | elapsed: 20.3min remaining:    0.0s\n"
     ]
    },
    {
     "name": "stdout",
     "output_type": "stream",
     "text": [
      "[CV] .............................. C=0.01, score=0.928, total=10.1min\n",
      "[CV] C=0.1 ...........................................................\n"
     ]
    },
    {
     "name": "stderr",
     "output_type": "stream",
     "text": [
      "[Parallel(n_jobs=1)]: Done   4 out of   4 | elapsed: 30.4min remaining:    0.0s\n"
     ]
    },
    {
     "name": "stdout",
     "output_type": "stream",
     "text": [
      "[CV] ............................... C=0.1, score=0.937, total= 9.9min\n",
      "[CV] C=0.1 ...........................................................\n"
     ]
    },
    {
     "name": "stderr",
     "output_type": "stream",
     "text": [
      "[Parallel(n_jobs=1)]: Done   5 out of   5 | elapsed: 40.3min remaining:    0.0s\n"
     ]
    },
    {
     "name": "stdout",
     "output_type": "stream",
     "text": [
      "[CV] ............................... C=0.1, score=0.937, total=10.2min\n",
      "[CV] C=1 .............................................................\n"
     ]
    },
    {
     "name": "stderr",
     "output_type": "stream",
     "text": [
      "[Parallel(n_jobs=1)]: Done   6 out of   6 | elapsed: 50.5min remaining:    0.0s\n"
     ]
    },
    {
     "name": "stdout",
     "output_type": "stream",
     "text": [
      "[CV] ................................. C=1, score=0.966, total=10.3min\n",
      "[CV] C=1 .............................................................\n"
     ]
    },
    {
     "name": "stderr",
     "output_type": "stream",
     "text": [
      "[Parallel(n_jobs=1)]: Done   7 out of   7 | elapsed: 60.8min remaining:    0.0s\n"
     ]
    },
    {
     "name": "stdout",
     "output_type": "stream",
     "text": [
      "[CV] ................................. C=1, score=0.967, total=10.1min\n",
      "[CV] C=10 ............................................................\n"
     ]
    },
    {
     "name": "stderr",
     "output_type": "stream",
     "text": [
      "[Parallel(n_jobs=1)]: Done   8 out of   8 | elapsed: 70.9min remaining:    0.0s\n"
     ]
    },
    {
     "name": "stdout",
     "output_type": "stream",
     "text": [
      "[CV] ................................ C=10, score=0.970, total=10.2min\n",
      "[CV] C=10 ............................................................\n"
     ]
    },
    {
     "name": "stderr",
     "output_type": "stream",
     "text": [
      "[Parallel(n_jobs=1)]: Done   9 out of   9 | elapsed: 81.1min remaining:    0.0s\n"
     ]
    },
    {
     "name": "stdout",
     "output_type": "stream",
     "text": [
      "[CV] ................................ C=10, score=0.970, total=10.1min\n",
      "[CV] C=100 ...........................................................\n",
      "[CV] ............................... C=100, score=0.970, total=10.6min\n",
      "[CV] C=100 ...........................................................\n",
      "[CV] ............................... C=100, score=0.971, total=10.8min\n",
      "[CV] C=1000 ..........................................................\n",
      "[CV] .............................. C=1000, score=0.969, total=10.4min\n",
      "[CV] C=1000 ..........................................................\n",
      "[CV] .............................. C=1000, score=0.970, total=10.0min\n"
     ]
    },
    {
     "name": "stderr",
     "output_type": "stream",
     "text": [
      "[Parallel(n_jobs=1)]: Done  14 out of  14 | elapsed: 133.0min finished\n"
     ]
    },
    {
     "data": {
      "text/plain": [
       "RandomizedSearchCV(cv=2, estimator=LogisticRegression(n_jobs=-1),\n",
       "                   param_distributions={'C': [0.001, 0.01, 0.1, 1, 10, 100,\n",
       "                                              1000]},\n",
       "                   scoring='f1', verbose=10)"
      ]
     },
     "execution_count": 15,
     "metadata": {},
     "output_type": "execute_result"
    }
   ],
   "source": [
    "params = {'C': [ 0.01, 0.1, 10, 100] }\n",
    "x_clf_1 = LogisticRegression(n_jobs=-1)\n",
    "\n",
    "random_clf_1 = RandomizedSearchCV(x_clf_1, param_distributions=params, scoring='f1', verbose=10, cv=2)\n",
    "random_clf_1.fit(X_train,y_train)"
   ]
  },
  {
   "cell_type": "code",
   "execution_count": 16,
   "metadata": {},
   "outputs": [
    {
     "name": "stdout",
     "output_type": "stream",
     "text": [
      "{'C': 100}\n",
      "0.9701642544982462\n"
     ]
    }
   ],
   "source": [
    "print(random_clf_1.best_params_)\n",
    "print(random_clf_1.best_score_)"
   ]
  },
  {
   "cell_type": "code",
   "execution_count": 17,
   "metadata": {},
   "outputs": [
    {
     "name": "stderr",
     "output_type": "stream",
     "text": [
      "[Parallel(n_jobs=-1)]: Using backend LokyBackend with 8 concurrent workers.\n"
     ]
    },
    {
     "name": "stdout",
     "output_type": "stream",
     "text": [
      "CPU times: user 3.05 s, sys: 3.64 s, total: 6.69 s\n",
      "Wall time: 20min\n"
     ]
    },
    {
     "name": "stderr",
     "output_type": "stream",
     "text": [
      "[Parallel(n_jobs=-1)]: Done   1 out of   1 | elapsed: 19.9min finished\n"
     ]
    },
    {
     "data": {
      "text/plain": [
       "LogisticRegression(C=100, n_jobs=-1, random_state=42, verbose=1)"
      ]
     },
     "execution_count": 17,
     "metadata": {},
     "output_type": "execute_result"
    }
   ],
   "source": [
    "%%time\n",
    "\n",
    "model1 = LogisticRegression(C=random_clf_1.best_params_['C'], penalty='l2', random_state=42, n_jobs=-1, verbose=1)\n",
    "model1.fit(X_train,y_train)"
   ]
  },
  {
   "cell_type": "code",
   "execution_count": 18,
   "metadata": {},
   "outputs": [
    {
     "name": "stdout",
     "output_type": "stream",
     "text": [
      "f1_score for train: 0.9693938504898542\n",
      "f1_score for test: 0.969580030125639\n"
     ]
    }
   ],
   "source": [
    "ypred = model1.predict(X_train)\n",
    "# print(ypred)\n",
    "f1score = f1_score(y_train, np.round(ypred))\n",
    "print('f1_score for train:',f1score)\n",
    "\n",
    "ypred = model1.predict(X_test)\n",
    "f1score = f1_score(y_test, np.round(ypred))\n",
    "print('f1_score for test:',f1score)\n",
    "\n",
    "# Dumping model in pickle file\n",
    "with open('LR.pkl', 'wb') as fp:\n",
    "    pickle.dump(model1, fp, protocol=pickle.HIGHEST_PROTOCOL)"
   ]
  },
  {
   "cell_type": "markdown",
   "metadata": {},
   "source": [
    "#### Cross-Validated f1 and macro_f1 test scores:"
   ]
  },
  {
   "cell_type": "code",
   "execution_count": 38,
   "metadata": {},
   "outputs": [
    {
     "name": "stdout",
     "output_type": "stream",
     "text": [
      "calling cross_val_score with cv=5 for test data:\n"
     ]
    },
    {
     "name": "stderr",
     "output_type": "stream",
     "text": [
      "[Parallel(n_jobs=-1)]: Using backend LokyBackend with 8 concurrent workers.\n",
      "[Parallel(n_jobs=-1)]: Done   1 out of   1 | elapsed:  4.1min finished\n",
      "[Parallel(n_jobs=-1)]: Using backend LokyBackend with 8 concurrent workers.\n",
      "[Parallel(n_jobs=-1)]: Done   1 out of   1 | elapsed:  4.2min finished\n",
      "[Parallel(n_jobs=-1)]: Using backend LokyBackend with 8 concurrent workers.\n",
      "[Parallel(n_jobs=-1)]: Done   1 out of   1 | elapsed:  4.3min finished\n",
      "[Parallel(n_jobs=-1)]: Using backend LokyBackend with 8 concurrent workers.\n",
      "[Parallel(n_jobs=-1)]: Done   1 out of   1 | elapsed:  4.1min finished\n",
      "[Parallel(n_jobs=-1)]: Using backend LokyBackend with 8 concurrent workers.\n",
      "[Parallel(n_jobs=-1)]: Done   1 out of   1 | elapsed:  4.1min finished\n"
     ]
    },
    {
     "name": "stdout",
     "output_type": "stream",
     "text": [
      "{'fit_time': array([247.16897297, 250.42288804, 259.1509254 , 249.28245568,\n",
      "       247.58299446]), 'score_time': array([0.32475019, 0.30092549, 0.31641674, 0.30802679, 0.31410551]), 'test_f1': array([0.96844455, 0.97006138, 0.97029855, 0.97028939, 0.96724908]), 'test_f1_macro': array([0.98097718, 0.98195776, 0.98209756, 0.98209675, 0.9802568 ])}\n",
      "CPU times: user 7.42 s, sys: 7.41 s, total: 14.8 s\n",
      "Wall time: 20min 55s\n"
     ]
    }
   ],
   "source": [
    "%%time\n",
    "\n",
    "infile = open('LR.pkl','rb')\n",
    "model = pickle.load(infile)\n",
    "infile.close()\n",
    "\n",
    "scores = cross_validation(model)\n",
    "print(scores)"
   ]
  },
  {
   "cell_type": "code",
   "execution_count": 40,
   "metadata": {},
   "outputs": [
    {
     "name": "stdout",
     "output_type": "stream",
     "text": [
      "mean test f1_score:  0.9692685905523243\n",
      "mean test macro_f1:  0.9814772089338742\n"
     ]
    }
   ],
   "source": [
    "print('mean test f1_score: ',scores['test_f1'].mean())\n",
    "print('mean test macro_f1: ',scores['test_f1_macro'].mean())"
   ]
  },
  {
   "cell_type": "code",
   "execution_count": 19,
   "metadata": {},
   "outputs": [
    {
     "data": {
      "image/png": "[encoded data removed]",
      "text/plain": [
       "<Figure size 432x288 with 2 Axes>"
      ]
     },
     "metadata": {
      "needs_background": "light"
     },
     "output_type": "display_data"
    }
   ],
   "source": [
    "plot_confusion_matrix(model1, X_test, y_test, values_format='')\n",
    "plt.show()"
   ]
  },
  {
   "cell_type": "markdown",
   "metadata": {},
   "source": [
    "## 2. Naive Bayes"
   ]
  },
  {
   "cell_type": "markdown",
   "metadata": {},
   "source": [
    "var_smoothing parameter's default value is  10^−9 . We will conduct the random search in the \"logspace\", that is, we will search over the powers of 10. We will start with  10^0  and end with  10^−9  and we will try 10 different values. For this search, we will use the logspace function in the numpy module."
   ]
  },
  {
   "cell_type": "code",
   "execution_count": 20,
   "metadata": {},
   "outputs": [
    {
     "name": "stdout",
     "output_type": "stream",
     "text": [
      "[1.e+00 1.e-01 1.e-02 1.e-03 1.e-04 1.e-05 1.e-06 1.e-07 1.e-08 1.e-09]\n",
      "Fitting 2 folds for each of 10 candidates, totalling 20 fits\n"
     ]
    },
    {
     "name": "stderr",
     "output_type": "stream",
     "text": [
      "[Parallel(n_jobs=1)]: Using backend SequentialBackend with 1 concurrent workers.\n"
     ]
    },
    {
     "name": "stdout",
     "output_type": "stream",
     "text": [
      "[CV] var_smoothing=1.0 ...............................................\n",
      "[CV] ................... var_smoothing=1.0, score=0.689, total=  11.3s\n",
      "[CV] var_smoothing=1.0 ...............................................\n"
     ]
    },
    {
     "name": "stderr",
     "output_type": "stream",
     "text": [
      "[Parallel(n_jobs=1)]: Done   1 out of   1 | elapsed:   11.3s remaining:    0.0s\n"
     ]
    },
    {
     "name": "stdout",
     "output_type": "stream",
     "text": [
      "[CV] ................... var_smoothing=1.0, score=0.689, total=  11.0s\n",
      "[CV] var_smoothing=0.1 ...............................................\n"
     ]
    },
    {
     "name": "stderr",
     "output_type": "stream",
     "text": [
      "[Parallel(n_jobs=1)]: Done   2 out of   2 | elapsed:   22.3s remaining:    0.0s\n"
     ]
    },
    {
     "name": "stdout",
     "output_type": "stream",
     "text": [
      "[CV] ................... var_smoothing=0.1, score=0.738, total=  11.3s\n",
      "[CV] var_smoothing=0.1 ...............................................\n"
     ]
    },
    {
     "name": "stderr",
     "output_type": "stream",
     "text": [
      "[Parallel(n_jobs=1)]: Done   3 out of   3 | elapsed:   33.6s remaining:    0.0s\n"
     ]
    },
    {
     "name": "stdout",
     "output_type": "stream",
     "text": [
      "[CV] ................... var_smoothing=0.1, score=0.738, total=  11.0s\n",
      "[CV] var_smoothing=0.01 ..............................................\n"
     ]
    },
    {
     "name": "stderr",
     "output_type": "stream",
     "text": [
      "[Parallel(n_jobs=1)]: Done   4 out of   4 | elapsed:   44.6s remaining:    0.0s\n"
     ]
    },
    {
     "name": "stdout",
     "output_type": "stream",
     "text": [
      "[CV] .................. var_smoothing=0.01, score=0.749, total=  11.2s\n",
      "[CV] var_smoothing=0.01 ..............................................\n"
     ]
    },
    {
     "name": "stderr",
     "output_type": "stream",
     "text": [
      "[Parallel(n_jobs=1)]: Done   5 out of   5 | elapsed:   55.8s remaining:    0.0s\n"
     ]
    },
    {
     "name": "stdout",
     "output_type": "stream",
     "text": [
      "[CV] .................. var_smoothing=0.01, score=0.747, total=  11.1s\n",
      "[CV] var_smoothing=0.001 .............................................\n"
     ]
    },
    {
     "name": "stderr",
     "output_type": "stream",
     "text": [
      "[Parallel(n_jobs=1)]: Done   6 out of   6 | elapsed:  1.1min remaining:    0.0s\n"
     ]
    },
    {
     "name": "stdout",
     "output_type": "stream",
     "text": [
      "[CV] ................. var_smoothing=0.001, score=0.666, total=  11.2s\n",
      "[CV] var_smoothing=0.001 .............................................\n"
     ]
    },
    {
     "name": "stderr",
     "output_type": "stream",
     "text": [
      "[Parallel(n_jobs=1)]: Done   7 out of   7 | elapsed:  1.3min remaining:    0.0s\n"
     ]
    },
    {
     "name": "stdout",
     "output_type": "stream",
     "text": [
      "[CV] ................. var_smoothing=0.001, score=0.662, total=  11.0s\n",
      "[CV] var_smoothing=0.0001 ............................................\n"
     ]
    },
    {
     "name": "stderr",
     "output_type": "stream",
     "text": [
      "[Parallel(n_jobs=1)]: Done   8 out of   8 | elapsed:  1.5min remaining:    0.0s\n"
     ]
    },
    {
     "name": "stdout",
     "output_type": "stream",
     "text": [
      "[CV] ................ var_smoothing=0.0001, score=0.656, total=  11.3s\n",
      "[CV] var_smoothing=0.0001 ............................................\n"
     ]
    },
    {
     "name": "stderr",
     "output_type": "stream",
     "text": [
      "[Parallel(n_jobs=1)]: Done   9 out of   9 | elapsed:  1.7min remaining:    0.0s\n"
     ]
    },
    {
     "name": "stdout",
     "output_type": "stream",
     "text": [
      "[CV] ................ var_smoothing=0.0001, score=0.654, total=  11.5s\n",
      "[CV] var_smoothing=1e-05 .............................................\n",
      "[CV] ................. var_smoothing=1e-05, score=0.646, total=  11.4s\n",
      "[CV] var_smoothing=1e-05 .............................................\n",
      "[CV] ................. var_smoothing=1e-05, score=0.644, total=  11.0s\n",
      "[CV] var_smoothing=1e-06 .............................................\n",
      "[CV] ................. var_smoothing=1e-06, score=0.638, total=  11.1s\n",
      "[CV] var_smoothing=1e-06 .............................................\n",
      "[CV] ................. var_smoothing=1e-06, score=0.640, total=  11.4s\n",
      "[CV] var_smoothing=1e-07 .............................................\n",
      "[CV] ................. var_smoothing=1e-07, score=0.630, total=  11.3s\n",
      "[CV] var_smoothing=1e-07 .............................................\n",
      "[CV] ................. var_smoothing=1e-07, score=0.632, total=  11.1s\n",
      "[CV] var_smoothing=1e-08 .............................................\n",
      "[CV] ................. var_smoothing=1e-08, score=0.625, total=  11.2s\n",
      "[CV] var_smoothing=1e-08 .............................................\n",
      "[CV] ................. var_smoothing=1e-08, score=0.626, total=  11.1s\n",
      "[CV] var_smoothing=1e-09 .............................................\n",
      "[CV] ................. var_smoothing=1e-09, score=0.621, total=  11.2s\n",
      "[CV] var_smoothing=1e-09 .............................................\n",
      "[CV] ................. var_smoothing=1e-09, score=0.624, total=  11.0s\n"
     ]
    },
    {
     "name": "stderr",
     "output_type": "stream",
     "text": [
      "[Parallel(n_jobs=1)]: Done  20 out of  20 | elapsed:  3.7min finished\n"
     ]
    },
    {
     "name": "stdout",
     "output_type": "stream",
     "text": [
      "CPU times: user 2min 43s, sys: 1min 10s, total: 3min 53s\n",
      "Wall time: 3min 53s\n"
     ]
    },
    {
     "data": {
      "text/plain": [
       "RandomizedSearchCV(cv=2, estimator=GaussianNB(),\n",
       "                   param_distributions={'var_smoothing': array([1.e+00, 1.e-01, 1.e-02, 1.e-03, 1.e-04, 1.e-05, 1.e-06, 1.e-07,\n",
       "       1.e-08, 1.e-09])},\n",
       "                   scoring='f1', verbose=10)"
      ]
     },
     "execution_count": 20,
     "metadata": {},
     "output_type": "execute_result"
    }
   ],
   "source": [
    "%%time\n",
    "\n",
    "var = np.logspace(0,-9, num=10)\n",
    "print(var)\n",
    "np.random.seed(999)\n",
    "params = {'var_smoothing': var}\n",
    "\n",
    "x_clf_2 = GaussianNB()\n",
    "random_clf_2 = RandomizedSearchCV(x_clf_2, param_distributions=params, scoring='f1', verbose=10, cv=2)\n",
    "random_clf_2.fit(X_train,y_train)"
   ]
  },
  {
   "cell_type": "code",
   "execution_count": 21,
   "metadata": {},
   "outputs": [
    {
     "name": "stdout",
     "output_type": "stream",
     "text": [
      "CPU times: user 6.96 s, sys: 2.53 s, total: 9.49 s\n",
      "Wall time: 9.49 s\n"
     ]
    },
    {
     "data": {
      "text/plain": [
       "GaussianNB(var_smoothing=0.01)"
      ]
     },
     "execution_count": 21,
     "metadata": {},
     "output_type": "execute_result"
    }
   ],
   "source": [
    "%%time\n",
    "\n",
    "model2 = GaussianNB(var_smoothing=random_clf_2.best_params_['var_smoothing'])\n",
    "model2.fit(X_train,y_train)"
   ]
  },
  {
   "cell_type": "code",
   "execution_count": 22,
   "metadata": {},
   "outputs": [
    {
     "name": "stdout",
     "output_type": "stream",
     "text": [
      "f1_score for train: 0.7479796125342537\n",
      "f1_score for test: 0.7474012310537557\n"
     ]
    }
   ],
   "source": [
    "ypred = model2.predict(X_train)\n",
    "f1score = f1_score(y_train, ypred)\n",
    "print('f1_score for train:',f1score)\n",
    "\n",
    "ypred = model2.predict(X_test)\n",
    "f1score = f1_score(y_test, ypred)\n",
    "print('f1_score for test:',f1score)\n",
    "\n",
    "# Dumping model in pickle file\n",
    "with open('NB.pkl', 'wb') as fp:\n",
    "    pickle.dump(model2, fp, protocol=pickle.HIGHEST_PROTOCOL)"
   ]
  },
  {
   "cell_type": "markdown",
   "metadata": {},
   "source": [
    "#### Cross-Validated f1 and macro_f1 test scores:"
   ]
  },
  {
   "cell_type": "code",
   "execution_count": 41,
   "metadata": {},
   "outputs": [
    {
     "name": "stdout",
     "output_type": "stream",
     "text": [
      "calling cross_val_score with cv=5 for test data:\n",
      "{'fit_time': array([2.12994885, 2.08233976, 2.08665562, 2.0582931 , 2.05784059]), 'score_time': array([0.53161454, 0.49161148, 0.49541712, 0.50018883, 0.48911643]), 'test_f1': array([0.74950168, 0.74823826, 0.74855166, 0.7479548 , 0.74662605]), 'test_f1_macro': array([0.84179548, 0.84097184, 0.84121444, 0.84079266, 0.83983113])}\n",
      "CPU times: user 9.94 s, sys: 3.22 s, total: 13.2 s\n",
      "Wall time: 13.2 s\n"
     ]
    }
   ],
   "source": [
    "%%time\n",
    "\n",
    "infile = open('NB.pkl','rb')\n",
    "model = pickle.load(infile)\n",
    "infile.close()\n",
    "\n",
    "scores = cross_validation(model)\n",
    "print(scores)"
   ]
  },
  {
   "cell_type": "code",
   "execution_count": 42,
   "metadata": {},
   "outputs": [
    {
     "name": "stdout",
     "output_type": "stream",
     "text": [
      "mean test f1_score:  0.7481744904052343\n",
      "mean test macro_f1:  0.8409211100974849\n"
     ]
    }
   ],
   "source": [
    "print('mean test f1_score: ',scores['test_f1'].mean())\n",
    "print('mean test macro_f1: ',scores['test_f1_macro'].mean())"
   ]
  },
  {
   "cell_type": "code",
   "execution_count": 23,
   "metadata": {},
   "outputs": [
    {
     "data": {
      "image/png": "[encoded data removed]",
      "text/plain": [
       "<Figure size 432x288 with 2 Axes>"
      ]
     },
     "metadata": {
      "needs_background": "light"
     },
     "output_type": "display_data"
    }
   ],
   "source": [
    "plot_confusion_matrix(model2, X_test, y_test, values_format='')\n",
    "plt.show()"
   ]
  },
  {
   "cell_type": "markdown",
   "metadata": {},
   "source": [
    "## 3. Decision Tree"
   ]
  },
  {
   "cell_type": "code",
   "execution_count": 29,
   "metadata": {},
   "outputs": [
    {
     "name": "stdout",
     "output_type": "stream",
     "text": [
      "Fitting 2 folds for each of 10 candidates, totalling 20 fits\n"
     ]
    },
    {
     "name": "stderr",
     "output_type": "stream",
     "text": [
      "[Parallel(n_jobs=3)]: Using backend LokyBackend with 3 concurrent workers.\n",
      "[Parallel(n_jobs=3)]: Done  20 out of  20 | elapsed:  4.6min finished\n"
     ]
    },
    {
     "name": "stdout",
     "output_type": "stream",
     "text": [
      "CPU times: user 7min 51s, sys: 3.1 s, total: 7min 55s\n",
      "Wall time: 12min 28s\n"
     ]
    },
    {
     "data": {
      "text/plain": [
       "RandomizedSearchCV(cv=2, estimator=DecisionTreeClassifier(), n_jobs=3,\n",
       "                   param_distributions={'max_depth': [3, 5, 8, None],\n",
       "                                        'max_features': ['auto', 'log2', None]},\n",
       "                   scoring='f1', verbose=1)"
      ]
     },
     "execution_count": 29,
     "metadata": {},
     "output_type": "execute_result"
    }
   ],
   "source": [
    "%%time\n",
    "from scipy.stats import randint\n",
    "\n",
    "params = {'max_depth' : [3,5,8,None],\n",
    "         'max_features': ['auto','log2',None],\n",
    "         }\n",
    "x_clf_5 = DecisionTreeClassifier()\n",
    "\n",
    "random_clf_5 = RandomizedSearchCV(x_clf_5, param_distributions=params, scoring='f1', verbose=1, cv=2, n_jobs=3)\n",
    "random_clf_5.fit(X_train,y_train)"
   ]
  },
  {
   "cell_type": "code",
   "execution_count": 30,
   "metadata": {},
   "outputs": [
    {
     "name": "stdout",
     "output_type": "stream",
     "text": [
      "{'max_features': None, 'max_depth': None}\n",
      "0.9998179898397053\n"
     ]
    }
   ],
   "source": [
    "print(random_clf_5.best_params_)\n",
    "print(random_clf_5.best_score_)"
   ]
  },
  {
   "cell_type": "code",
   "execution_count": 36,
   "metadata": {},
   "outputs": [
    {
     "name": "stdout",
     "output_type": "stream",
     "text": [
      "CPU times: user 7min 52s, sys: 888 ms, total: 7min 52s\n",
      "Wall time: 7min 53s\n"
     ]
    },
    {
     "data": {
      "text/plain": [
       "DecisionTreeClassifier()"
      ]
     },
     "execution_count": 36,
     "metadata": {},
     "output_type": "execute_result"
    }
   ],
   "source": [
    "%%time\n",
    "\n",
    "model5 = DecisionTreeClassifier(max_depth=None, max_features=None)\n",
    "model5.fit(X_train,y_train)"
   ]
  },
  {
   "cell_type": "code",
   "execution_count": 37,
   "metadata": {},
   "outputs": [
    {
     "name": "stdout",
     "output_type": "stream",
     "text": [
      "f1_score for train: 1.0\n",
      "f1_score for test: 0.9999111677577583\n"
     ]
    }
   ],
   "source": [
    "ypred = model5.predict(X_train)\n",
    "f1score = f1_score(y_train, np.round(ypred))\n",
    "print('f1_score for train:',f1score)\n",
    "\n",
    "ypred = model5.predict(X_test)\n",
    "f1score = f1_score(y_test, np.round(ypred))\n",
    "print('f1_score for test:',f1score)\n",
    "\n",
    "# Dumping model in pickle file\n",
    "with open('DT.pkl', 'wb') as fp:\n",
    "    pickle.dump(model5, fp, protocol=pickle.HIGHEST_PROTOCOL)"
   ]
  },
  {
   "cell_type": "markdown",
   "metadata": {},
   "source": [
    "#### Cross-Validated f1 and macro_f1 test scores:"
   ]
  },
  {
   "cell_type": "code",
   "execution_count": 43,
   "metadata": {},
   "outputs": [
    {
     "name": "stdout",
     "output_type": "stream",
     "text": [
      "calling cross_val_score with cv=5 for test data:\n",
      "{'fit_time': array([51.94898295, 55.84655428, 49.10616398, 49.56655407, 55.62586689]), 'score_time': array([0.28568459, 0.28620553, 0.27283049, 0.28904986, 0.27636051]), 'test_f1': array([0.99966207, 0.99967174, 0.99978759, 0.99974897, 0.99979723]), 'test_f1_macro': array([0.99979643, 0.99980226, 0.99987204, 0.99984878, 0.99987785])}\n",
      "CPU times: user 4min 22s, sys: 1.19 s, total: 4min 23s\n",
      "Wall time: 4min 23s\n"
     ]
    }
   ],
   "source": [
    "%%time\n",
    "\n",
    "infile = open('DT.pkl','rb')\n",
    "model = pickle.load(infile)\n",
    "infile.close()\n",
    "\n",
    "scores = cross_validation(model)\n",
    "print(scores)"
   ]
  },
  {
   "cell_type": "code",
   "execution_count": 44,
   "metadata": {},
   "outputs": [
    {
     "name": "stdout",
     "output_type": "stream",
     "text": [
      "mean test f1_score:  0.9997335201282768\n",
      "mean test macro_f1:  0.9998394737718715\n"
     ]
    }
   ],
   "source": [
    "print('mean test f1_score: ',scores['test_f1'].mean())\n",
    "print('mean test macro_f1: ',scores['test_f1_macro'].mean())"
   ]
  },
  {
   "cell_type": "code",
   "execution_count": 38,
   "metadata": {},
   "outputs": [
    {
     "data": {
      "image/png": "[encoded data removed]",
      "text/plain": [
       "<Figure size 432x288 with 2 Axes>"
      ]
     },
     "metadata": {
      "needs_background": "light"
     },
     "output_type": "display_data"
    }
   ],
   "source": [
    "plot_confusion_matrix(model5, X_test, y_test, values_format='')\n",
    "plt.show()"
   ]
  },
  {
   "cell_type": "markdown",
   "metadata": {},
   "source": [
    "## 4. Random Forest "
   ]
  },
  {
   "cell_type": "code",
   "execution_count": 39,
   "metadata": {},
   "outputs": [
    {
     "name": "stdout",
     "output_type": "stream",
     "text": [
      "Fitting 2 folds for each of 10 candidates, totalling 20 fits\n"
     ]
    },
    {
     "name": "stderr",
     "output_type": "stream",
     "text": [
      "[Parallel(n_jobs=3)]: Using backend LokyBackend with 3 concurrent workers.\n",
      "[Parallel(n_jobs=3)]: Done  20 out of  20 | elapsed: 338.1min finished\n"
     ]
    },
    {
     "name": "stdout",
     "output_type": "stream",
     "text": [
      "CPU times: user 3h 2min 12s, sys: 4.15 s, total: 3h 2min 17s\n",
      "Wall time: 8h 40min 17s\n"
     ]
    },
    {
     "data": {
      "text/plain": [
       "RandomizedSearchCV(cv=2, estimator=RandomForestClassifier(), n_jobs=3,\n",
       "                   param_distributions={'max_depth': [10, 20, 40, 60, 80],\n",
       "                                        'n_estimators': [100, 200, 300, 500,\n",
       "                                                         800]},\n",
       "                   scoring='f1', verbose=1)"
      ]
     },
     "execution_count": 39,
     "metadata": {},
     "output_type": "execute_result"
    }
   ],
   "source": [
    "%%time\n",
    "params={'n_estimators' : [100,200,300,500,800],\n",
    "       'max_depth' : [10,20,40,60,80]\n",
    "       }\n",
    "\n",
    "x_clf_4 = RandomForestClassifier()\n",
    "\n",
    "random_clf_4 = RandomizedSearchCV(x_clf_4, param_distributions=params, scoring='f1', verbose=1, cv=2, n_jobs=3)\n",
    "random_clf_4.fit(X_train,y_train)"
   ]
  },
  {
   "cell_type": "code",
   "execution_count": 40,
   "metadata": {},
   "outputs": [
    {
     "name": "stdout",
     "output_type": "stream",
     "text": [
      "{'n_estimators': 500, 'max_depth': 40}\n",
      "0.9999526835091561\n"
     ]
    }
   ],
   "source": [
    "print(random_clf_4.best_params_)\n",
    "print(random_clf_4.best_score_)"
   ]
  },
  {
   "cell_type": "code",
   "execution_count": 43,
   "metadata": {},
   "outputs": [
    {
     "name": "stderr",
     "output_type": "stream",
     "text": [
      "[Parallel(n_jobs=-1)]: Using backend ThreadingBackend with 8 concurrent workers.\n",
      "[Parallel(n_jobs=-1)]: Done  34 tasks      | elapsed:  2.2min\n",
      "[Parallel(n_jobs=-1)]: Done 184 tasks      | elapsed: 10.3min\n",
      "[Parallel(n_jobs=-1)]: Done 434 tasks      | elapsed: 24.3min\n"
     ]
    },
    {
     "name": "stdout",
     "output_type": "stream",
     "text": [
      "CPU times: user 3h 38min 30s, sys: 1min 39s, total: 3h 40min 9s\n",
      "Wall time: 28min\n"
     ]
    },
    {
     "name": "stderr",
     "output_type": "stream",
     "text": [
      "[Parallel(n_jobs=-1)]: Done 500 out of 500 | elapsed: 28.0min finished\n"
     ]
    },
    {
     "data": {
      "text/plain": [
       "RandomForestClassifier(max_depth=40, n_estimators=500, n_jobs=-1,\n",
       "                       random_state=42, verbose=1)"
      ]
     },
     "execution_count": 43,
     "metadata": {},
     "output_type": "execute_result"
    }
   ],
   "source": [
    "%%time\n",
    "\n",
    "model4 = RandomForestClassifier(n_estimators=random_clf_4.best_params_['n_estimators'], max_depth=random_clf_4.best_params_['max_depth'], \n",
    "                                random_state=42, n_jobs=-1, verbose=1)\n",
    "model4.fit(X_train,y_train)"
   ]
  },
  {
   "cell_type": "code",
   "execution_count": 44,
   "metadata": {},
   "outputs": [
    {
     "name": "stderr",
     "output_type": "stream",
     "text": [
      "[Parallel(n_jobs=8)]: Using backend ThreadingBackend with 8 concurrent workers.\n",
      "[Parallel(n_jobs=8)]: Done  34 tasks      | elapsed:    4.9s\n",
      "[Parallel(n_jobs=8)]: Done 184 tasks      | elapsed:   24.4s\n",
      "[Parallel(n_jobs=8)]: Done 434 tasks      | elapsed:   56.6s\n",
      "[Parallel(n_jobs=8)]: Done 500 out of 500 | elapsed:  1.1min finished\n"
     ]
    },
    {
     "name": "stdout",
     "output_type": "stream",
     "text": [
      "f1_score for train: 1.0\n"
     ]
    },
    {
     "name": "stderr",
     "output_type": "stream",
     "text": [
      "[Parallel(n_jobs=8)]: Using backend ThreadingBackend with 8 concurrent workers.\n",
      "[Parallel(n_jobs=8)]: Done  34 tasks      | elapsed:    1.1s\n",
      "[Parallel(n_jobs=8)]: Done 184 tasks      | elapsed:    5.6s\n",
      "[Parallel(n_jobs=8)]: Done 434 tasks      | elapsed:   13.3s\n",
      "[Parallel(n_jobs=8)]: Done 500 out of 500 | elapsed:   15.3s finished\n"
     ]
    },
    {
     "name": "stdout",
     "output_type": "stream",
     "text": [
      "f1_score for test: 0.9999787563996347\n"
     ]
    }
   ],
   "source": [
    "ypred = model4.predict(X_train)\n",
    "f1score = f1_score(y_train, np.round(ypred))\n",
    "print('f1_score for train:',f1score)\n",
    "\n",
    "ypred = model4.predict(X_test)\n",
    "f1score = f1_score(y_test, np.round(ypred))\n",
    "print('f1_score for test:',f1score)\n",
    "\n",
    "# Dumping model in pickle file\n",
    "with open('RF.pkl', 'wb') as fp:\n",
    "    pickle.dump(model4, fp, protocol=pickle.HIGHEST_PROTOCOL)"
   ]
  },
  {
   "cell_type": "markdown",
   "metadata": {},
   "source": [
    "#### Cross-Validated f1 and macro_f1 test scores:"
   ]
  },
  {
   "cell_type": "code",
   "execution_count": 45,
   "metadata": {},
   "outputs": [
    {
     "name": "stdout",
     "output_type": "stream",
     "text": [
      "calling cross_val_score with cv=5 for test data:\n"
     ]
    },
    {
     "name": "stderr",
     "output_type": "stream",
     "text": [
      "[Parallel(n_jobs=-1)]: Using backend LokyBackend with 8 concurrent workers.\n",
      "[Parallel(n_jobs=-1)]: Done  34 tasks      | elapsed:   23.2s\n",
      "[Parallel(n_jobs=-1)]: Done 184 tasks      | elapsed:  1.8min\n",
      "[Parallel(n_jobs=-1)]: Done 434 tasks      | elapsed:  4.2min\n",
      "[Parallel(n_jobs=-1)]: Done 500 out of 500 | elapsed:  4.7min finished\n",
      "[Parallel(n_jobs=8)]: Using backend ThreadingBackend with 8 concurrent workers.\n",
      "[Parallel(n_jobs=8)]: Done  34 tasks      | elapsed:    0.2s\n",
      "[Parallel(n_jobs=8)]: Done 184 tasks      | elapsed:    1.0s\n",
      "[Parallel(n_jobs=8)]: Done 434 tasks      | elapsed:    2.4s\n",
      "[Parallel(n_jobs=8)]: Done 500 out of 500 | elapsed:    2.7s finished\n",
      "[Parallel(n_jobs=-1)]: Using backend LokyBackend with 8 concurrent workers.\n",
      "[Parallel(n_jobs=-1)]: Done  34 tasks      | elapsed:   23.3s\n",
      "[Parallel(n_jobs=-1)]: Done 184 tasks      | elapsed:  1.8min\n",
      "[Parallel(n_jobs=-1)]: Done 434 tasks      | elapsed:  4.2min\n",
      "[Parallel(n_jobs=-1)]: Done 500 out of 500 | elapsed:  4.8min finished\n",
      "[Parallel(n_jobs=8)]: Using backend ThreadingBackend with 8 concurrent workers.\n",
      "[Parallel(n_jobs=8)]: Done  34 tasks      | elapsed:    0.2s\n",
      "[Parallel(n_jobs=8)]: Done 184 tasks      | elapsed:    1.0s\n",
      "[Parallel(n_jobs=8)]: Done 434 tasks      | elapsed:    2.4s\n",
      "[Parallel(n_jobs=8)]: Done 500 out of 500 | elapsed:    2.7s finished\n",
      "[Parallel(n_jobs=-1)]: Using backend LokyBackend with 8 concurrent workers.\n",
      "[Parallel(n_jobs=-1)]: Done  34 tasks      | elapsed:   21.6s\n",
      "[Parallel(n_jobs=-1)]: Done 184 tasks      | elapsed:  1.8min\n",
      "[Parallel(n_jobs=-1)]: Done 434 tasks      | elapsed:  4.2min\n",
      "[Parallel(n_jobs=-1)]: Done 500 out of 500 | elapsed:  4.8min finished\n",
      "[Parallel(n_jobs=8)]: Using backend ThreadingBackend with 8 concurrent workers.\n",
      "[Parallel(n_jobs=8)]: Done  34 tasks      | elapsed:    0.2s\n",
      "[Parallel(n_jobs=8)]: Done 184 tasks      | elapsed:    1.0s\n",
      "[Parallel(n_jobs=8)]: Done 434 tasks      | elapsed:    2.4s\n",
      "[Parallel(n_jobs=8)]: Done 500 out of 500 | elapsed:    2.8s finished\n",
      "[Parallel(n_jobs=-1)]: Using backend LokyBackend with 8 concurrent workers.\n",
      "[Parallel(n_jobs=-1)]: Done  34 tasks      | elapsed:   21.9s\n",
      "[Parallel(n_jobs=-1)]: Done 184 tasks      | elapsed:  1.8min\n",
      "[Parallel(n_jobs=-1)]: Done 434 tasks      | elapsed:  4.2min\n",
      "[Parallel(n_jobs=-1)]: Done 500 out of 500 | elapsed:  4.8min finished\n",
      "[Parallel(n_jobs=8)]: Using backend ThreadingBackend with 8 concurrent workers.\n",
      "[Parallel(n_jobs=8)]: Done  34 tasks      | elapsed:    0.2s\n",
      "[Parallel(n_jobs=8)]: Done 184 tasks      | elapsed:    1.0s\n",
      "[Parallel(n_jobs=8)]: Done 434 tasks      | elapsed:    2.3s\n",
      "[Parallel(n_jobs=8)]: Done 500 out of 500 | elapsed:    2.7s finished\n",
      "[Parallel(n_jobs=-1)]: Using backend LokyBackend with 8 concurrent workers.\n",
      "[Parallel(n_jobs=-1)]: Done  34 tasks      | elapsed:   22.4s\n",
      "[Parallel(n_jobs=-1)]: Done 184 tasks      | elapsed:  1.8min\n",
      "[Parallel(n_jobs=-1)]: Done 434 tasks      | elapsed:  4.2min\n",
      "[Parallel(n_jobs=-1)]: Done 500 out of 500 | elapsed:  4.8min finished\n",
      "[Parallel(n_jobs=8)]: Using backend ThreadingBackend with 8 concurrent workers.\n",
      "[Parallel(n_jobs=8)]: Done  34 tasks      | elapsed:    0.2s\n",
      "[Parallel(n_jobs=8)]: Done 184 tasks      | elapsed:    1.0s\n",
      "[Parallel(n_jobs=8)]: Done 434 tasks      | elapsed:    2.3s\n",
      "[Parallel(n_jobs=8)]: Done 500 out of 500 | elapsed:    2.7s finished\n"
     ]
    },
    {
     "name": "stdout",
     "output_type": "stream",
     "text": [
      "{'fit_time': array([285.87238193, 286.32101226, 291.65386677, 289.57515574,\n",
      "       286.91730094]), 'score_time': array([3.10242677, 3.07567286, 3.07413435, 2.9816103 , 2.96468186]), 'test_f1': array([0.99985514, 0.9998648 , 0.99988412, 0.99989377, 0.99994206]), 'test_f1_macro': array([0.99991274, 0.99991856, 0.99993019, 0.99993601, 0.9999651 ])}\n",
      "CPU times: user 1min 57s, sys: 4.16 s, total: 2min 1s\n",
      "Wall time: 24min 16s\n"
     ]
    }
   ],
   "source": [
    "%%time\n",
    "\n",
    "infile = open('RF.pkl','rb')\n",
    "model = pickle.load(infile)\n",
    "infile.close()\n",
    "\n",
    "scores = cross_validation(model)\n",
    "print(scores)"
   ]
  },
  {
   "cell_type": "code",
   "execution_count": 46,
   "metadata": {},
   "outputs": [
    {
     "name": "stdout",
     "output_type": "stream",
     "text": [
      "mean test f1_score:  0.9998879787998447\n",
      "mean test macro_f1:  0.9999325217179905\n"
     ]
    }
   ],
   "source": [
    "print('mean test f1_score: ',scores['test_f1'].mean())\n",
    "print('mean test macro_f1: ',scores['test_f1_macro'].mean())"
   ]
  },
  {
   "cell_type": "code",
   "execution_count": 45,
   "metadata": {},
   "outputs": [
    {
     "name": "stderr",
     "output_type": "stream",
     "text": [
      "[Parallel(n_jobs=8)]: Using backend ThreadingBackend with 8 concurrent workers.\n",
      "[Parallel(n_jobs=8)]: Done  34 tasks      | elapsed:    1.1s\n",
      "[Parallel(n_jobs=8)]: Done 184 tasks      | elapsed:    5.7s\n",
      "[Parallel(n_jobs=8)]: Done 434 tasks      | elapsed:   13.3s\n",
      "[Parallel(n_jobs=8)]: Done 500 out of 500 | elapsed:   15.3s finished\n"
     ]
    },
    {
     "data": {
      "image/png": "[encoded data removed]",
      "text/plain": [
       "<Figure size 432x288 with 2 Axes>"
      ]
     },
     "metadata": {
      "needs_background": "light"
     },
     "output_type": "display_data"
    }
   ],
   "source": [
    "plot_confusion_matrix(model4, X_test, y_test, values_format='')\n",
    "plt.show()"
   ]
  },
  {
   "cell_type": "markdown",
   "metadata": {},
   "source": [
    "## 5. XGBoost"
   ]
  },
  {
   "cell_type": "code",
   "execution_count": 46,
   "metadata": {},
   "outputs": [
    {
     "name": "stdout",
     "output_type": "stream",
     "text": [
      "Fitting 2 folds for each of 10 candidates, totalling 20 fits\n"
     ]
    },
    {
     "name": "stderr",
     "output_type": "stream",
     "text": [
      "[Parallel(n_jobs=3)]: Using backend LokyBackend with 3 concurrent workers.\n",
      "[Parallel(n_jobs=3)]: Done   2 tasks      | elapsed: 26.0min\n",
      "[Parallel(n_jobs=3)]: Done   7 tasks      | elapsed: 66.2min\n",
      "[Parallel(n_jobs=3)]: Done  12 tasks      | elapsed: 90.7min\n",
      "[Parallel(n_jobs=3)]: Done  18 out of  20 | elapsed: 137.0min remaining: 15.2min\n",
      "[Parallel(n_jobs=3)]: Done  20 out of  20 | elapsed: 153.3min finished\n"
     ]
    },
    {
     "name": "stdout",
     "output_type": "stream",
     "text": [
      "[05:00:44] WARNING: ../src/gbm/gbtree.cc:139: Tree method is automatically selected to be 'approx' for faster speed. To use old behavior (exact greedy algorithm on single machine), set tree_method to 'exact'.\n",
      "CPU times: user 1h 11min 6s, sys: 6.15 s, total: 1h 11min 12s\n",
      "Wall time: 3h 42min 28s\n"
     ]
    },
    {
     "data": {
      "text/plain": [
       "RandomizedSearchCV(cv=2,\n",
       "                   estimator=XGBClassifier(base_score=None, booster=None,\n",
       "                                           colsample_bylevel=None,\n",
       "                                           colsample_bynode=None,\n",
       "                                           colsample_bytree=None, gamma=None,\n",
       "                                           gpu_id=None, importance_type='gain',\n",
       "                                           interaction_constraints=None,\n",
       "                                           learning_rate=None,\n",
       "                                           max_delta_step=None, max_depth=None,\n",
       "                                           min_child_weight=None, missing=nan,\n",
       "                                           monotone_constraints=None,\n",
       "                                           n_estimators=100, n_jobs=-1,\n",
       "                                           num_parallel_tree=None,\n",
       "                                           random_state=None, reg_alpha=None,\n",
       "                                           reg_lambda=None,\n",
       "                                           scale_pos_weight=None,\n",
       "                                           subsample=None, tree_method=None,\n",
       "                                           validate_parameters=None,\n",
       "                                           verbosity=None),\n",
       "                   n_jobs=3,\n",
       "                   param_distributions={'colsample_bytree': [0.6, 0.8, 1.0],\n",
       "                                        'gamma': [0.5, 1, 1.5, 2, 5],\n",
       "                                        'max_depth': [3, 4, 5],\n",
       "                                        'min_child_weight': [1, 5, 10],\n",
       "                                        'subsample': [0.6, 0.8, 1.0]},\n",
       "                   verbose=10)"
      ]
     },
     "execution_count": 46,
     "metadata": {},
     "output_type": "execute_result"
    }
   ],
   "source": [
    "%%time\n",
    "# Hyperparameter tunning\n",
    "x_clf_6 = XGBClassifier(n_jobs=-1)\n",
    "\n",
    "params = {\n",
    "        'min_child_weight': [1, 5, 10],\n",
    "        'gamma': [0.5, 1, 1.5, 2, 5],\n",
    "        'subsample': [0.6, 0.8, 1.0],\n",
    "        'colsample_bytree': [0.6, 0.8, 1.0],\n",
    "        'max_depth': [3, 4, 5]\n",
    "        }\n",
    "\n",
    "random_clf_6 = RandomizedSearchCV(x_clf_6,param_distributions=params,verbose=10,cv=2,n_jobs=3)\n",
    "random_clf_6.fit(X_train,y_train)"
   ]
  },
  {
   "cell_type": "code",
   "execution_count": 47,
   "metadata": {},
   "outputs": [
    {
     "name": "stdout",
     "output_type": "stream",
     "text": [
      "{'subsample': 1.0, 'min_child_weight': 1, 'max_depth': 5, 'gamma': 1, 'colsample_bytree': 0.6}\n",
      "0.9999993435312471\n"
     ]
    }
   ],
   "source": [
    "print(random_clf_6.best_params_)\n",
    "print(random_clf_6.best_score_)"
   ]
  },
  {
   "cell_type": "code",
   "execution_count": 48,
   "metadata": {},
   "outputs": [
    {
     "name": "stdout",
     "output_type": "stream",
     "text": [
      "[06:09:39] WARNING: ../src/gbm/gbtree.cc:139: Tree method is automatically selected to be 'approx' for faster speed. To use old behavior (exact greedy algorithm on single machine), set tree_method to 'exact'.\n",
      "CPU times: user 56min 43s, sys: 3.54 s, total: 56min 47s\n",
      "Wall time: 56min 47s\n"
     ]
    },
    {
     "data": {
      "text/plain": [
       "XGBClassifier(base_score=0.5, booster='gbtree', colsample_bylevel=1,\n",
       "              colsample_bynode=1, colsample_bytree=0.6, gamma=1, gpu_id=-1,\n",
       "              importance_type='gain', interaction_constraints='',\n",
       "              learning_rate=0.300000012, max_delta_step=0, max_depth=5,\n",
       "              min_child_weight=1, missing=nan, monotone_constraints='()',\n",
       "              n_estimators=100, n_jobs=-1, num_parallel_tree=1, random_state=0,\n",
       "              reg_alpha=0, reg_lambda=1, scale_pos_weight=1, subsample=1.0,\n",
       "              tree_method='approx', validate_parameters=1, verbosity=None)"
      ]
     },
     "execution_count": 48,
     "metadata": {},
     "output_type": "execute_result"
    }
   ],
   "source": [
    "%%time\n",
    "\n",
    "model6 = XGBClassifier(max_depth=random_clf_6.best_params_['max_depth'], subsample=random_clf_6.best_params_['subsample'], \n",
    "                       colsample_bytree=random_clf_6.best_params_['colsample_bytree'], min_child_weight=random_clf_6.best_params_['min_child_weight'], \n",
    "                       gamma=random_clf_6.best_params_['gamma'],n_jobs=-1)\n",
    "model6.fit(X_train,y_train, verbose=10)"
   ]
  },
  {
   "cell_type": "code",
   "execution_count": 49,
   "metadata": {},
   "outputs": [
    {
     "name": "stdout",
     "output_type": "stream",
     "text": [
      "[0 0 0 ... 0 0 0]\n",
      "f1_score for train: 0.9999995171990593\n",
      "f1_score for test: 0.9999922752483507\n"
     ]
    }
   ],
   "source": [
    "ypred = model6.predict(X_train)\n",
    "print(ypred)\n",
    "f1score = f1_score(y_train, np.round(ypred))\n",
    "print('f1_score for train:',f1score)\n",
    "\n",
    "ypred = model6.predict(X_test)\n",
    "f1score = f1_score(y_test, np.round(ypred))\n",
    "print('f1_score for test:',f1score)\n",
    "\n",
    "# Dumping model in pickle file\n",
    "with open('XGB.pkl', 'wb') as fp:\n",
    "    pickle.dump(model6, fp, protocol=pickle.HIGHEST_PROTOCOL)"
   ]
  },
  {
   "cell_type": "markdown",
   "metadata": {},
   "source": [
    "#### Cross-Validated f1 and macro_f1 test scores:"
   ]
  },
  {
   "cell_type": "code",
   "execution_count": 47,
   "metadata": {},
   "outputs": [
    {
     "name": "stdout",
     "output_type": "stream",
     "text": [
      "calling cross_val_score with cv=5 for test data:\n",
      "{'fit_time': array([540.55194044, 554.16048884, 644.94158578, 649.97757339,\n",
      "       642.94089556]), 'score_time': array([1.27535868, 1.30193949, 1.30245042, 1.29370308, 1.26659322]), 'test_f1': array([0.99996138, 0.99999034, 0.99999034, 1.        , 0.99997103]), 'test_f1_macro': array([0.99997673, 0.99999418, 0.99999418, 1.        , 0.99998255])}\n",
      "CPU times: user 50min 35s, sys: 3.75 s, total: 50min 39s\n",
      "Wall time: 50min 39s\n"
     ]
    }
   ],
   "source": [
    "%%time\n",
    "\n",
    "infile = open('XGB.pkl','rb')\n",
    "model = pickle.load(infile)\n",
    "infile.close()\n",
    "\n",
    "scores = cross_validation(model)\n",
    "print(scores)"
   ]
  },
  {
   "cell_type": "code",
   "execution_count": 48,
   "metadata": {},
   "outputs": [
    {
     "name": "stdout",
     "output_type": "stream",
     "text": [
      "mean test f1_score:  0.9999826191633285\n",
      "mean test macro_f1:  0.9999895300772058\n"
     ]
    }
   ],
   "source": [
    "print('mean test f1_score: ',scores['test_f1'].mean())\n",
    "print('mean test macro_f1: ',scores['test_f1_macro'].mean())"
   ]
  },
  {
   "cell_type": "code",
   "execution_count": 50,
   "metadata": {},
   "outputs": [
    {
     "data": {
      "image/png": "[encoded data removed]",
      "text/plain": [
       "<Figure size 432x288 with 2 Axes>"
      ]
     },
     "metadata": {
      "needs_background": "light"
     },
     "output_type": "display_data"
    }
   ],
   "source": [
    "plot_confusion_matrix(model6, X_test, y_test, values_format='')\n",
    "plt.show()"
   ]
  },
  {
   "cell_type": "markdown",
   "metadata": {},
   "source": [
    "## 6. AdaBoostClassifier"
   ]
  },
  {
   "cell_type": "code",
   "execution_count": 17,
   "metadata": {},
   "outputs": [
    {
     "name": "stdout",
     "output_type": "stream",
     "text": [
      "Fitting 2 folds for each of 5 candidates, totalling 10 fits\n"
     ]
    },
    {
     "name": "stderr",
     "output_type": "stream",
     "text": [
      "[Parallel(n_jobs=3)]: Using backend LokyBackend with 3 concurrent workers.\n",
      "[Parallel(n_jobs=3)]: Done   2 tasks      | elapsed: 26.5min\n",
      "[Parallel(n_jobs=3)]: Done   7 out of  10 | elapsed: 193.7min remaining: 83.0min\n",
      "[Parallel(n_jobs=3)]: Done  10 out of  10 | elapsed: 382.6min finished\n"
     ]
    },
    {
     "data": {
      "text/plain": [
       "RandomizedSearchCV(cv=2, estimator=AdaBoostClassifier(), n_jobs=3,\n",
       "                   param_distributions={'n_estimators': [100, 200, 300, 500,\n",
       "                                                         800]},\n",
       "                   verbose=10)"
      ]
     },
     "execution_count": 17,
     "metadata": {},
     "output_type": "execute_result"
    }
   ],
   "source": [
    "x_clf_7 = AdaBoostClassifier()\n",
    "params = {'n_estimators' : [100,200,300,500,800] }\n",
    "\n",
    "random_clf_7 = RandomizedSearchCV(x_clf_7,param_distributions=params,verbose=10,cv=2,n_jobs=3)\n",
    "random_clf_7.fit(X_train,y_train)"
   ]
  },
  {
   "cell_type": "code",
   "execution_count": 18,
   "metadata": {},
   "outputs": [
    {
     "name": "stdout",
     "output_type": "stream",
     "text": [
      "{'n_estimators': 800}\n",
      "0.9999978664767957\n"
     ]
    }
   ],
   "source": [
    "print(random_clf_7.best_params_)\n",
    "print(random_clf_7.best_score_)"
   ]
  },
  {
   "cell_type": "code",
   "execution_count": 16,
   "metadata": {},
   "outputs": [
    {
     "name": "stdout",
     "output_type": "stream",
     "text": [
      "CPU times: user 5h 54min 32s, sys: 8min 12s, total: 6h 2min 44s\n",
      "Wall time: 6h 2min 47s\n"
     ]
    },
    {
     "data": {
      "text/plain": [
       "AdaBoostClassifier(n_estimators=800)"
      ]
     },
     "execution_count": 16,
     "metadata": {},
     "output_type": "execute_result"
    }
   ],
   "source": [
    "%%time\n",
    "\n",
    "model7 = AdaBoostClassifier(n_estimators=800)\n",
    "model7.fit(X_train,y_train)"
   ]
  },
  {
   "cell_type": "code",
   "execution_count": 17,
   "metadata": {},
   "outputs": [
    {
     "name": "stdout",
     "output_type": "stream",
     "text": [
      "[0 0 0 ... 0 0 0]\n",
      "f1_score for train: 0.9999985515985764\n",
      "f1_score for test: 1.0\n"
     ]
    }
   ],
   "source": [
    "ypred = model7.predict(X_train)\n",
    "print(ypred)\n",
    "f1score = f1_score(y_train, np.round(ypred))\n",
    "print('f1_score for train:',f1score)\n",
    "\n",
    "ypred = model7.predict(X_test)\n",
    "f1score = f1_score(y_test, np.round(ypred))\n",
    "print('f1_score for test:',f1score)\n",
    "\n",
    "# Dumping model in pickle file\n",
    "with open('ADB.pkl', 'wb') as fp:\n",
    "    pickle.dump(model7, fp, protocol=pickle.HIGHEST_PROTOCOL)"
   ]
  },
  {
   "cell_type": "markdown",
   "metadata": {},
   "source": [
    "#### Cross-Validated f1 and macro_f1 test scores:"
   ]
  },
  {
   "cell_type": "code",
   "execution_count": 18,
   "metadata": {},
   "outputs": [
    {
     "name": "stdout",
     "output_type": "stream",
     "text": [
      "calling cross_val_score with cv=5 for test data:\n",
      "{'fit_time': array([3623.53971577, 3618.99888182, 3612.57262778, 3751.86759043,\n",
      "       3567.72887468]), 'score_time': array([52.92169356, 52.86364865, 53.49079776, 52.8428967 , 52.29335856]), 'test_f1': array([1.        , 0.99999034, 1.        , 0.99998069, 0.99999034]), 'test_f1_macro': array([1.        , 0.99999418, 1.        , 0.99998837, 0.99999418])}\n",
      "CPU times: user 4h 59min 3s, sys: 8min 13s, total: 5h 7min 17s\n",
      "Wall time: 5h 7min 19s\n"
     ]
    }
   ],
   "source": [
    "%%time\n",
    "\n",
    "infile = open('ADB.pkl','rb')\n",
    "model = pickle.load(infile)\n",
    "infile.close()\n",
    "\n",
    "scores = cross_validation(model)\n",
    "print(scores)"
   ]
  },
  {
   "cell_type": "code",
   "execution_count": 19,
   "metadata": {},
   "outputs": [
    {
     "name": "stdout",
     "output_type": "stream",
     "text": [
      "mean test f1_score:  0.999992275270726\n",
      "mean test macro_f1:  0.9999953467417125\n"
     ]
    }
   ],
   "source": [
    "print('mean test f1_score: ',scores['test_f1'].mean())\n",
    "print('mean test macro_f1: ',scores['test_f1_macro'].mean())"
   ]
  },
  {
   "cell_type": "code",
   "execution_count": 20,
   "metadata": {},
   "outputs": [
    {
     "data": {
      "image/png": "[encoded data removed]",
      "text/plain": [
       "<Figure size 432x288 with 2 Axes>"
      ]
     },
     "metadata": {
      "needs_background": "light"
     },
     "output_type": "display_data"
    }
   ],
   "source": [
    "plot_confusion_matrix(model7, X_test, y_test, values_format='')\n",
    "plt.show()"
   ]
  },
  {
   "cell_type": "markdown",
   "metadata": {},
   "source": [
    "#### 7. Multi-layer Perceptron classifier\n",
    "<font size=3>\n",
    "    <ul>\n",
    "<li>Lets try MLP Neural Network as well. Unlike other classification algorithms such as Logistic Regression or Naive Bayes Classifier, MLPClassifier relies on an underlying Neural Network to perform the task of classification.</li>\n",
    "<li>'hidden_layer_sizes': Each element in the tuple represents the number of nodes at the ith position where i is the index of the tuple. Thus the length of tuple denotes the total number of hidden layers in the network.</li>\n",
    "        </ul>\n",
    "</font>"
   ]
  },
  {
   "cell_type": "code",
   "execution_count": 18,
   "metadata": {},
   "outputs": [
    {
     "name": "stdout",
     "output_type": "stream",
     "text": [
      "Fitting 2 folds for each of 6 candidates, totalling 12 fits\n"
     ]
    },
    {
     "name": "stderr",
     "output_type": "stream",
     "text": [
      "[Parallel(n_jobs=1)]: Using backend SequentialBackend with 1 concurrent workers.\n"
     ]
    },
    {
     "name": "stdout",
     "output_type": "stream",
     "text": [
      "[CV] hidden_layer_sizes=(74, 74, 50), alpha=0.0001 ...................\n",
      "[CV]  hidden_layer_sizes=(74, 74, 50), alpha=0.0001, score=0.999, total=31.0min\n",
      "[CV] hidden_layer_sizes=(74, 74, 50), alpha=0.0001 ...................\n"
     ]
    },
    {
     "name": "stderr",
     "output_type": "stream",
     "text": [
      "[Parallel(n_jobs=1)]: Done   1 out of   1 | elapsed: 31.0min remaining:    0.0s\n"
     ]
    },
    {
     "name": "stdout",
     "output_type": "stream",
     "text": [
      "[CV]  hidden_layer_sizes=(74, 74, 50), alpha=0.0001, score=0.999, total=31.0min\n",
      "[CV] hidden_layer_sizes=(128, 100, 74), alpha=0.0001 .................\n"
     ]
    },
    {
     "name": "stderr",
     "output_type": "stream",
     "text": [
      "[Parallel(n_jobs=1)]: Done   2 out of   2 | elapsed: 61.9min remaining:    0.0s\n"
     ]
    },
    {
     "name": "stdout",
     "output_type": "stream",
     "text": [
      "[CV]  hidden_layer_sizes=(128, 100, 74), alpha=0.0001, score=0.999, total=43.6min\n",
      "[CV] hidden_layer_sizes=(128, 100, 74), alpha=0.0001 .................\n"
     ]
    },
    {
     "name": "stderr",
     "output_type": "stream",
     "text": [
      "[Parallel(n_jobs=1)]: Done   3 out of   3 | elapsed: 105.5min remaining:    0.0s\n"
     ]
    },
    {
     "name": "stdout",
     "output_type": "stream",
     "text": [
      "[CV]  hidden_layer_sizes=(128, 100, 74), alpha=0.0001, score=1.000, total=44.1min\n",
      "[CV] hidden_layer_sizes=(74, 74, 50), alpha=0.05 .....................\n"
     ]
    },
    {
     "name": "stderr",
     "output_type": "stream",
     "text": [
      "[Parallel(n_jobs=1)]: Done   4 out of   4 | elapsed: 149.6min remaining:    0.0s\n"
     ]
    },
    {
     "name": "stdout",
     "output_type": "stream",
     "text": [
      "[CV]  hidden_layer_sizes=(74, 74, 50), alpha=0.05, score=0.997, total=30.6min\n",
      "[CV] hidden_layer_sizes=(74, 74, 50), alpha=0.05 .....................\n"
     ]
    },
    {
     "name": "stderr",
     "output_type": "stream",
     "text": [
      "[Parallel(n_jobs=1)]: Done   5 out of   5 | elapsed: 180.2min remaining:    0.0s\n"
     ]
    },
    {
     "name": "stdout",
     "output_type": "stream",
     "text": [
      "[CV]  hidden_layer_sizes=(74, 74, 50), alpha=0.05, score=0.997, total=25.9min\n",
      "[CV] hidden_layer_sizes=(128, 100, 74), alpha=0.05 ...................\n"
     ]
    },
    {
     "name": "stderr",
     "output_type": "stream",
     "text": [
      "[Parallel(n_jobs=1)]: Done   6 out of   6 | elapsed: 206.1min remaining:    0.0s\n"
     ]
    },
    {
     "name": "stdout",
     "output_type": "stream",
     "text": [
      "[CV]  hidden_layer_sizes=(128, 100, 74), alpha=0.05, score=0.997, total=41.2min\n",
      "[CV] hidden_layer_sizes=(128, 100, 74), alpha=0.05 ...................\n"
     ]
    },
    {
     "name": "stderr",
     "output_type": "stream",
     "text": [
      "[Parallel(n_jobs=1)]: Done   7 out of   7 | elapsed: 247.3min remaining:    0.0s\n"
     ]
    },
    {
     "name": "stdout",
     "output_type": "stream",
     "text": [
      "[CV]  hidden_layer_sizes=(128, 100, 74), alpha=0.05, score=0.997, total=49.6min\n",
      "[CV] hidden_layer_sizes=(74, 74, 50), alpha=0.001 ....................\n"
     ]
    },
    {
     "name": "stderr",
     "output_type": "stream",
     "text": [
      "[Parallel(n_jobs=1)]: Done   8 out of   8 | elapsed: 296.9min remaining:    0.0s\n"
     ]
    },
    {
     "name": "stdout",
     "output_type": "stream",
     "text": [
      "[CV]  hidden_layer_sizes=(74, 74, 50), alpha=0.001, score=0.999, total=36.5min\n",
      "[CV] hidden_layer_sizes=(74, 74, 50), alpha=0.001 ....................\n"
     ]
    },
    {
     "name": "stderr",
     "output_type": "stream",
     "text": [
      "[Parallel(n_jobs=1)]: Done   9 out of   9 | elapsed: 333.4min remaining:    0.0s\n"
     ]
    },
    {
     "name": "stdout",
     "output_type": "stream",
     "text": [
      "[CV]  hidden_layer_sizes=(74, 74, 50), alpha=0.001, score=0.999, total=41.0min\n",
      "[CV] hidden_layer_sizes=(128, 100, 74), alpha=0.001 ..................\n",
      "[CV]  hidden_layer_sizes=(128, 100, 74), alpha=0.001, score=0.999, total=48.1min\n",
      "[CV] hidden_layer_sizes=(128, 100, 74), alpha=0.001 ..................\n",
      "[CV]  hidden_layer_sizes=(128, 100, 74), alpha=0.001, score=0.999, total=44.1min\n"
     ]
    },
    {
     "name": "stderr",
     "output_type": "stream",
     "text": [
      "[Parallel(n_jobs=1)]: Done  12 out of  12 | elapsed: 466.5min finished\n"
     ]
    },
    {
     "name": "stdout",
     "output_type": "stream",
     "text": [
      "CPU times: user 1d 21h 13min 51s, sys: 1d 5h 4min 8s, total: 3d 2h 18min\n",
      "Wall time: 9h 23min 29s\n"
     ]
    },
    {
     "data": {
      "text/plain": [
       "RandomizedSearchCV(cv=2, estimator=MLPClassifier(n_iter_no_change=5),\n",
       "                   param_distributions={'alpha': [0.0001, 0.05, 0.001],\n",
       "                                        'hidden_layer_sizes': [(74, 74, 50),\n",
       "                                                               (128, 100, 74)]},\n",
       "                   verbose=10)"
      ]
     },
     "execution_count": 18,
     "metadata": {},
     "output_type": "execute_result"
    }
   ],
   "source": [
    "%%time\n",
    "\n",
    "params = {\n",
    "    'hidden_layer_sizes': [(74,74,50), (128,100,74)],\n",
    "    'alpha': [0.0001, 0.05, 0.001],\n",
    "}\n",
    "x_clf_8 = MLPClassifier(n_iter_no_change=5)\n",
    "                        \n",
    "random_clf_8 = RandomizedSearchCV(x_clf_8,param_distributions=params,verbose=10,cv=2)\n",
    "random_clf_8.fit(X_train,y_train)"
   ]
  },
  {
   "cell_type": "code",
   "execution_count": 19,
   "metadata": {},
   "outputs": [
    {
     "name": "stdout",
     "output_type": "stream",
     "text": [
      "{'hidden_layer_sizes': (128, 100, 74), 'alpha': 0.0001}\n",
      "0.9994984578828068\n"
     ]
    }
   ],
   "source": [
    "print(random_clf_8.best_params_)\n",
    "print(random_clf_8.best_score_)"
   ]
  },
  {
   "cell_type": "code",
   "execution_count": 16,
   "metadata": {},
   "outputs": [
    {
     "name": "stdout",
     "output_type": "stream",
     "text": [
      "Iteration 1, loss = 0.00768134\n",
      "Iteration 2, loss = 0.00362890\n",
      "Iteration 3, loss = 0.00318939\n",
      "Iteration 4, loss = 0.00303354\n",
      "Iteration 5, loss = 0.00284200\n",
      "Iteration 6, loss = 0.00270759\n",
      "Iteration 7, loss = 0.00261962\n",
      "Iteration 8, loss = 0.00257533\n",
      "Iteration 9, loss = 0.00251070\n",
      "Iteration 10, loss = 0.00248885\n",
      "Iteration 11, loss = 0.00245624\n",
      "Iteration 12, loss = 0.00243178\n",
      "Iteration 13, loss = 0.00240269\n",
      "Iteration 14, loss = 0.00239845\n",
      "Iteration 15, loss = 0.00236443\n",
      "Iteration 16, loss = 0.00234827\n",
      "Iteration 17, loss = 0.00235690\n",
      "Training loss did not improve more than tol=0.000100 for 10 consecutive epochs. Stopping.\n",
      "CPU times: user 10h 41min 16s, sys: 6h 40min 10s, total: 17h 21min 27s\n",
      "Wall time: 2h 11min 23s\n"
     ]
    },
    {
     "data": {
      "text/plain": [
       "MLPClassifier(hidden_layer_sizes=(128, 100, 74), verbose=True)"
      ]
     },
     "execution_count": 16,
     "metadata": {},
     "output_type": "execute_result"
    }
   ],
   "source": [
    "%%time\n",
    "\n",
    "model8 = MLPClassifier(hidden_layer_sizes=(128,100,74),\n",
    "                       alpha=0.0001, verbose=True)\n",
    "model8.fit(X_train,y_train)"
   ]
  },
  {
   "cell_type": "code",
   "execution_count": 17,
   "metadata": {},
   "outputs": [
    {
     "name": "stdout",
     "output_type": "stream",
     "text": [
      "[0 0 0 ... 0 0 0]\n",
      "f1_score for train: 0.9988491398466388\n",
      "macro f1_score for train: 0.9993066646448113\n",
      "\n",
      "\n",
      "f1_score for test: 0.9988264813742521\n",
      "macro f1_score for test: 0.9992930114923135\n"
     ]
    }
   ],
   "source": [
    "ypred = model8.predict(X_train)\n",
    "print(ypred)\n",
    "f1score = f1_score(y_train, np.round(ypred))\n",
    "print('f1_score for train:',f1score)\n",
    "f1score = f1_score(y_train, np.round(ypred),average='macro')\n",
    "print('macro f1_score for train:',f1score)\n",
    "print('\\n')\n",
    "\n",
    "ypred = model8.predict(X_test)\n",
    "f1score = f1_score(y_test, np.round(ypred))\n",
    "print('f1_score for test:',f1score)\n",
    "f1score = f1_score(y_test, np.round(ypred),average='macro')\n",
    "print('macro f1_score for test:',f1score)\n",
    "\n",
    "# Dumping model in pickle file\n",
    "with open('MLP.pkl', 'wb') as fp:\n",
    "    pickle.dump(model8, fp, protocol=pickle.HIGHEST_PROTOCOL)"
   ]
  },
  {
   "cell_type": "markdown",
   "metadata": {},
   "source": [
    "#### Cross-Validated f1 and macro_f1 test scores:"
   ]
  },
  {
   "cell_type": "code",
   "execution_count": 18,
   "metadata": {},
   "outputs": [
    {
     "name": "stdout",
     "output_type": "stream",
     "text": [
      "calling cross_val_score with cv=5 for test data:\n",
      "Iteration 1, loss = 0.01783954\n",
      "Iteration 2, loss = 0.00707527\n",
      "Iteration 3, loss = 0.00537857\n",
      "Iteration 4, loss = 0.00436294\n",
      "Iteration 5, loss = 0.00382851\n",
      "Iteration 6, loss = 0.00358542\n",
      "Iteration 7, loss = 0.00335249\n",
      "Iteration 8, loss = 0.00319045\n",
      "Iteration 9, loss = 0.00310788\n",
      "Iteration 10, loss = 0.00292812\n",
      "Iteration 11, loss = 0.00286882\n",
      "Iteration 12, loss = 0.00286623\n",
      "Iteration 13, loss = 0.00272831\n",
      "Iteration 14, loss = 0.00274034\n",
      "Iteration 15, loss = 0.00269739\n",
      "Iteration 16, loss = 0.00260972\n",
      "Iteration 17, loss = 0.00258210\n",
      "Iteration 18, loss = 0.00256571\n",
      "Iteration 19, loss = 0.00249917\n",
      "Iteration 20, loss = 0.00253622\n",
      "Iteration 21, loss = 0.00252892\n",
      "Iteration 22, loss = 0.00249747\n",
      "Iteration 23, loss = 0.00253269\n",
      "Iteration 24, loss = 0.00246538\n",
      "Training loss did not improve more than tol=0.000100 for 10 consecutive epochs. Stopping.\n",
      "Iteration 1, loss = 0.01555158\n",
      "Iteration 2, loss = 0.00624352\n",
      "Iteration 3, loss = 0.00484805\n",
      "Iteration 4, loss = 0.00423027\n",
      "Iteration 5, loss = 0.00399290\n",
      "Iteration 6, loss = 0.00366279\n",
      "Iteration 7, loss = 0.00347271\n",
      "Iteration 8, loss = 0.00336347\n",
      "Iteration 9, loss = 0.00327605\n",
      "Iteration 10, loss = 0.00312732\n",
      "Iteration 11, loss = 0.00314480\n",
      "Iteration 12, loss = 0.00300355\n",
      "Iteration 13, loss = 0.00294742\n",
      "Iteration 14, loss = 0.00294096\n",
      "Iteration 15, loss = 0.00285210\n",
      "Iteration 16, loss = 0.00284699\n",
      "Iteration 17, loss = 0.00280802\n",
      "Iteration 18, loss = 0.00276086\n",
      "Iteration 19, loss = 0.00272377\n",
      "Iteration 20, loss = 0.00262302\n",
      "Iteration 21, loss = 0.00258714\n",
      "Iteration 22, loss = 0.00253863\n",
      "Iteration 23, loss = 0.00255999\n",
      "Iteration 24, loss = 0.00254125\n",
      "Iteration 25, loss = 0.00249968\n",
      "Iteration 26, loss = 0.00255166\n",
      "Iteration 27, loss = 0.00248963\n",
      "Iteration 28, loss = 0.00249862\n",
      "Iteration 29, loss = 0.00242100\n",
      "Iteration 30, loss = 0.00245536\n",
      "Iteration 31, loss = 0.00236363\n",
      "Training loss did not improve more than tol=0.000100 for 10 consecutive epochs. Stopping.\n",
      "Iteration 1, loss = 0.01738008\n",
      "Iteration 2, loss = 0.00678662\n",
      "Iteration 3, loss = 0.00486295\n",
      "Iteration 4, loss = 0.00416044\n",
      "Iteration 5, loss = 0.00376326\n",
      "Iteration 6, loss = 0.00358027\n",
      "Iteration 7, loss = 0.00337597\n",
      "Iteration 8, loss = 0.00324416\n",
      "Iteration 9, loss = 0.00317460\n",
      "Iteration 10, loss = 0.00301087\n",
      "Iteration 11, loss = 0.00298287\n",
      "Iteration 12, loss = 0.00290325\n",
      "Iteration 13, loss = 0.00288632\n",
      "Iteration 14, loss = 0.00277597\n",
      "Iteration 15, loss = 0.00276613\n",
      "Iteration 16, loss = 0.00268521\n",
      "Iteration 17, loss = 0.00267615\n",
      "Iteration 18, loss = 0.00270917\n",
      "Iteration 19, loss = 0.00259471\n",
      "Iteration 20, loss = 0.00258098\n",
      "Iteration 21, loss = 0.00254703\n",
      "Iteration 22, loss = 0.00256108\n",
      "Iteration 23, loss = 0.00255485\n",
      "Iteration 24, loss = 0.00250523\n",
      "Iteration 25, loss = 0.00249297\n",
      "Training loss did not improve more than tol=0.000100 for 10 consecutive epochs. Stopping.\n",
      "Iteration 1, loss = 0.01655270\n",
      "Iteration 2, loss = 0.00693114\n",
      "Iteration 3, loss = 0.00505795\n",
      "Iteration 4, loss = 0.00426129\n",
      "Iteration 5, loss = 0.00387580\n",
      "Iteration 6, loss = 0.00365837\n",
      "Iteration 7, loss = 0.00349309\n",
      "Iteration 8, loss = 0.00335848\n",
      "Iteration 9, loss = 0.00312397\n",
      "Iteration 10, loss = 0.00311645\n",
      "Iteration 11, loss = 0.00303856\n",
      "Iteration 12, loss = 0.00302353\n",
      "Iteration 13, loss = 0.00285926\n",
      "Iteration 14, loss = 0.00281530\n",
      "Iteration 15, loss = 0.00282778\n",
      "Iteration 16, loss = 0.00274328\n",
      "Iteration 17, loss = 0.00265584\n",
      "Iteration 18, loss = 0.00266394\n",
      "Iteration 19, loss = 0.00257127\n",
      "Iteration 20, loss = 0.00257384\n",
      "Iteration 21, loss = 0.00254800\n",
      "Iteration 22, loss = 0.00246448\n",
      "Iteration 23, loss = 0.00250396\n",
      "Iteration 24, loss = 0.00252247\n",
      "Training loss did not improve more than tol=0.000100 for 10 consecutive epochs. Stopping.\n",
      "Iteration 1, loss = 0.01720938\n",
      "Iteration 2, loss = 0.00677042\n",
      "Iteration 3, loss = 0.00500607\n",
      "Iteration 4, loss = 0.00428305\n",
      "Iteration 5, loss = 0.00395948\n",
      "Iteration 6, loss = 0.00360820\n",
      "Iteration 7, loss = 0.00349733\n",
      "Iteration 8, loss = 0.00339204\n",
      "Iteration 9, loss = 0.00325587\n",
      "Iteration 10, loss = 0.00317738\n",
      "Iteration 11, loss = 0.00309902\n",
      "Iteration 12, loss = 0.00289568\n",
      "Iteration 13, loss = 0.00290155\n",
      "Iteration 14, loss = 0.00284787\n",
      "Iteration 15, loss = 0.00277444\n",
      "Iteration 16, loss = 0.00274967\n",
      "Iteration 17, loss = 0.00272760\n",
      "Iteration 18, loss = 0.00267433\n",
      "Iteration 19, loss = 0.00263612\n",
      "Iteration 20, loss = 0.00260929\n",
      "Iteration 21, loss = 0.00262741\n",
      "Iteration 22, loss = 0.00265579\n",
      "Iteration 23, loss = 0.00259302\n",
      "Training loss did not improve more than tol=0.000100 for 10 consecutive epochs. Stopping.\n",
      "{'fit_time': array([1922.77956414, 2660.61988711, 2104.64563632, 1876.70961976,\n",
      "       1801.74041104]), 'score_time': array([5.29579854, 5.27386546, 5.48546433, 5.53069949, 6.15918136]), 'test_f1': array([0.99853293, 0.99873583, 0.99862977, 0.99861962, 0.99810939]), 'test_f1_macro': array([0.99911618, 0.99923839, 0.99917448, 0.99916843, 0.99886088])}\n",
      "CPU times: user 13h 59min 21s, sys: 8h 53min 19s, total: 22h 52min 41s\n",
      "Wall time: 2h 53min 14s\n"
     ]
    }
   ],
   "source": [
    "%%time\n",
    "\n",
    "infile = open('MLP.pkl','rb')\n",
    "model = pickle.load(infile)\n",
    "infile.close()\n",
    "\n",
    "scores = cross_validation(model)\n",
    "print(scores)"
   ]
  },
  {
   "cell_type": "code",
   "execution_count": 19,
   "metadata": {},
   "outputs": [
    {
     "name": "stdout",
     "output_type": "stream",
     "text": [
      "mean test f1_score:  0.9985255070067225\n",
      "mean test macro_f1:  0.9991116733667516\n"
     ]
    }
   ],
   "source": [
    "print('mean test f1_score: ',scores['test_f1'].mean())\n",
    "print('mean test macro_f1: ',scores['test_f1_macro'].mean())"
   ]
  },
  {
   "cell_type": "code",
   "execution_count": 20,
   "metadata": {},
   "outputs": [
    {
     "data": {
      "image/png": "[encoded data removed]",
      "text/plain": [
       "<Figure size 432x288 with 2 Axes>"
      ]
     },
     "metadata": {
      "needs_background": "light"
     },
     "output_type": "display_data"
    }
   ],
   "source": [
    "plot_confusion_matrix(model8, X_test, y_test, values_format='')\n",
    "plt.show()"
   ]
  },
  {
   "cell_type": "markdown",
   "metadata": {},
   "source": [
    "# Summary:"
   ]
  },
  {
   "cell_type": "markdown",
   "metadata": {},
   "source": [
    "<font size=4>\n",
    "Lets compare all the models:<br>\n",
    "    <hr>\n",
    "<\\font>\n",
    "<font size=\"4\">\n",
    "<table width=\"100%\">\n",
    "    <tr>\n",
    "        <td width=\"5%\"><b><font size=\"4\">#</font></b></td>\n",
    "        <td width=\"20%\"><b><font size=\"4\">Model</font></b></td>\n",
    "        <td><b><font size=\"4\">train f1</font></b></td>\n",
    "        <td><b><font size=\"4\">test f1</font></b></td>\n",
    "        <td><b><font size=\"4\">test macro_f1</font></b></td>\n",
    "        <td><b><font size=\"4\">TP</font></b></td>\n",
    "        <td><b><font size=\"4\">FP</font></b></td>\n",
    "        <td><b><font size=\"4\">FN</font></b></td>\n",
    "        <td><b><font size=\"4\">TN</font></b></td>\n",
    "    </tr>\n",
    "    <tr>\n",
    "        <td><font size=\"4\">1</font></td>\n",
    "        <td><font size=\"4\">LogisticRegression</font></td>\n",
    "        <td><font size=\"4\">0.96939385</font></td>\n",
    "        <td><font size=\"4\">0.96926859</font></td>\n",
    "        <td><font size=\"4\">0.98147721</font></td>\n",
    "        <td><font size=\"4\">1255484</font></td>\n",
    "        <td><font size=\"4\">8912</font></td>\n",
    "        <td><font size=\"4\">6901</font></td>\n",
    "        <td><font size=\"4\">252005</font></td>\n",
    "    </tr>\n",
    "    <tr>\n",
    "        <td><font size=\"4\">2</font></td>\n",
    "        <td><font size=\"4\">GaussianNB</font></td>\n",
    "        <td><font size=\"4\">0.74797961</font></td>\n",
    "        <td><font size=\"4\">0.74817449</font></td>\n",
    "        <td><font size=\"4\">0.84092111</font></td>\n",
    "        <td><font size=\"4\">1125052</font></td>\n",
    "        <td><font size=\"4\">139344</font></td>\n",
    "        <td><font size=\"4\">21278</font></td>\n",
    "        <td><font size=\"4\">237628</font></td>\n",
    "    </tr>\n",
    "    <tr>\n",
    "        <td><font size=\"4\">3</font></td>\n",
    "        <td><font size=\"4\">DecisionTreeClassifier</font></td>\n",
    "        <td><font size=\"4\">1.00000000</font></td>\n",
    "        <td><font size=\"4\">0.99973352</font></td>\n",
    "        <td><font size=\"4\">0.99983947</font></td>\n",
    "        <td><font size=\"4\">1264364</font></td>\n",
    "        <td><font size=\"4\">32</font></td>\n",
    "        <td><font size=\"4\">14</font></td>\n",
    "        <td><font size=\"4\">258892</font></td>\n",
    "    </tr>\n",
    "    <tr>\n",
    "        <td><font size=\"4\">4</font></td>\n",
    "        <td><font size=\"4\">RandomForestClassifier</font></td>\n",
    "        <td><font size=\"4\">1.00000000</font></td>\n",
    "        <td><font size=\"4\">0.99988798</font></td>\n",
    "        <td><font size=\"4\">0.99993252</font></td>\n",
    "        <td><font size=\"4\">1264395</font></td>\n",
    "        <td><font size=\"4\">1</font></td>\n",
    "        <td><font size=\"4\">10</font></td>\n",
    "        <td><font size=\"4\">258896</font></td>\n",
    "    </tr>\n",
    "    <tr>\n",
    "        <td><font size=\"4\">5</font></td>\n",
    "        <td><font size=\"4\">XGBoost</font></td>\n",
    "        <td><font size=\"4\">0.99999227</font></td>\n",
    "        <td><font size=\"4\">0.99998262</font></td>\n",
    "        <td><font size=\"4\">0.99998953</font></td>\n",
    "        <td><font size=\"4\">1264392</font></td>\n",
    "        <td><font size=\"4\">4</font></td>\n",
    "        <td><font size=\"4\">0</font></td>\n",
    "        <td><font size=\"4\">258906</font></td>\n",
    "    </tr>\n",
    "    <tr>\n",
    "        <td><font size=\"4\">6</font></td>\n",
    "        <td><font size=\"4\">AdaBoost</font></td>\n",
    "        <td><font size=\"4\">0.99999855</font></td>\n",
    "        <td><font size=\"4\">0.99999228</font></td>\n",
    "        <td><font size=\"4\">0.99999535</font></td>\n",
    "        <td><font size=\"4\">1264396</font></td>\n",
    "        <td><font size=\"4\">0</font></td>\n",
    "        <td><font size=\"4\">0</font></td>\n",
    "        <td><font size=\"4\">258906</font></td>\n",
    "    </tr>\n",
    "    <tr>\n",
    "        <td><font size=\"4\">7</font></td>\n",
    "        <td><font size=\"4\">MLPClassifier</font></td>\n",
    "        <td><font size=\"4\">0.99884914</font></td>\n",
    "        <td><font size=\"4\">0.99852551</font></td>\n",
    "        <td><font size=\"4\">0.99911167</font></td>\n",
    "        <td><font size=\"4\">1263958</font></td>\n",
    "        <td><font size=\"4\">448</font></td>\n",
    "        <td><font size=\"4\">160</font></td>\n",
    "        <td><font size=\"4\">258746</font></td>\n",
    "    </tr>\n",
    "</table>\n",
    "</font>"
   ]
  },
  {
   "cell_type": "markdown",
   "metadata": {},
   "source": [
    "## Finally, with AdaBoost we are getting almost 100% accurcay. <br>False Negative and False Positive both are zero which means that the AdaBoost model is able to detect DDoS attack from the Benign traffic with zero error."
   ]
  }
 ],
 "metadata": {
  "environment": {
   "name": "tf2-2-3-gpu.2-3.m56",
   "type": "gcloud",
   "uri": "gcr.io/deeplearning-platform-release/tf2-2-3-gpu.2-3:m56"
  },
  "kernelspec": {
   "display_name": "Python 3",
   "language": "python",
   "name": "python3"
  },
  "language_info": {
   "codemirror_mode": {
    "name": "ipython",
    "version": 3
   },
   "file_extension": ".py",
   "mimetype": "text/x-python",
   "name": "python",
   "nbconvert_exporter": "python",
   "pygments_lexer": "ipython3",
   "version": "3.7.8"
  }
 },
 "nbformat": 4,
 "nbformat_minor": 4
}
