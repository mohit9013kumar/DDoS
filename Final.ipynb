{
 "cells": [
  {
   "cell_type": "markdown",
   "metadata": {},
   "source": [
    "## Importing libraries:"
   ]
  },
  {
   "cell_type": "code",
   "execution_count": 1,
   "metadata": {},
   "outputs": [
    {
     "data": {
      "application/vnd.jupyter.widget-view+json": {
       "model_id": "93bd378fb61f4851880c84958e4cc092",
       "version_major": 2,
       "version_minor": 0
      },
      "text/plain": [
       "HBox(children=(FloatProgress(value=1.0, bar_style='info', layout=Layout(width='20px'), max=1.0), HTML(value=''…"
      ]
     },
     "metadata": {},
     "output_type": "display_data"
    },
    {
     "name": "stdout",
     "output_type": "stream",
     "text": [
      "\n"
     ]
    }
   ],
   "source": [
    "import pandas as pd\n",
    "import numpy as np\n",
    "from tqdm.notebook import tqdm_notebook\n",
    "from sklearn import preprocessing\n",
    "from tqdm import tqdm_notebook as tqdm\n",
    "from xgboost import XGBClassifier\n",
    "from sklearn.model_selection import RandomizedSearchCV\n",
    "from sklearn.tree import DecisionTreeClassifier\n",
    "from sklearn.model_selection import train_test_split\n",
    "from sklearn.preprocessing import Normalizer\n",
    "from sklearn.metrics import f1_score\n",
    "from sklearn.metrics import plot_confusion_matrix\n",
    "from sklearn.ensemble import AdaBoostClassifier\n",
    "from sklearn.preprocessing import MinMaxScaler\n",
    "from sklearn.metrics import plot_confusion_matrix\n",
    "\n",
    "import pickle\n",
    "import os\n",
    "import warnings\n",
    "warnings.filterwarnings('ignore')\n",
    "tqdm().pandas()"
   ]
  },
  {
   "cell_type": "markdown",
   "metadata": {},
   "source": [
    "## Function 1:\n",
    "<font size=4>\n",
    "    <ul>\n",
    "        <li>This function includes entire pipeline, from data preprocessing to making final predictions.</li>\n",
    "        <li>Take in raw data as input and returns predictions for the input.</li>\n",
    "    </ul>\n",
    "</font>"
   ]
  },
  {
   "cell_type": "code",
   "execution_count": 39,
   "metadata": {},
   "outputs": [],
   "source": [
    "'''\n",
    "    This function includes entire pipeline, from data preprocessing to making final predictions\n",
    "    Take in raw data as input and returns predictions for the input.\n",
    "'''\n",
    "\n",
    "def function_1(X):\n",
    "\n",
    "    # creating dataframe from np array or list\n",
    "    columns = None\n",
    "    if not isinstance(X, pd.DataFrame):\n",
    "        if os.path.isfile('col_lst.pkl'):\n",
    "            infile = open('col_lst.pkl','rb')\n",
    "            columns = pickle.load(infile)\n",
    "            infile.close()\n",
    "        else:\n",
    "            print('col_lst pickle file missing!!\\n Terminating Process...')\n",
    "            return\n",
    "        X = pd.DataFrame(X,columns=columns)\n",
    "    \n",
    "    print('Input shape:',X.shape)\n",
    "    print('='*100)\n",
    "    \n",
    "    data=X.copy()\n",
    "    print('Data preprocessing...')\n",
    "    \n",
    "    # replacing -inf and inf to nan\n",
    "    data.replace([np.inf, -np.inf], np.nan,inplace=True)\n",
    "    \n",
    "    print('Checking for null values...')\n",
    "    nan_col = data.columns[data.isna().any()].tolist()\n",
    "    print('Columns with null values:\\n',nan_col,'\\n')\n",
    "    \n",
    "    # filling nan values with mean of the column\n",
    "    for col in nan_col:\n",
    "        data[col].fillna(data[col].mean(),inplace=True)\n",
    "    \n",
    "    # separating columns with constant and categorical features \n",
    "    drop_lst = ['Fwd URG Flags', 'Bwd URG Flags', 'Fwd Byts/b Avg', 'Fwd Pkts/b Avg',\n",
    "                'Fwd Blk Rate Avg', 'Bwd Byts/b Avg', 'Bwd Pkts/b Avg', 'Bwd Blk Rate Avg',\n",
    "                'Flow ID', 'Timestamp', 'Unnamed: 0']\n",
    "       # dropping not required columns\n",
    "\n",
    "    catfeat=['Fwd PSH Flags', 'Bwd PSH Flags', 'FIN Flag Cnt', 'SYN Flag Cnt',\n",
    "            'RST Flag Cnt', 'PSH Flag Cnt', 'ACK Flag Cnt', 'URG Flag Cnt',\n",
    "            'CWE Flag Count', 'ECE Flag Cnt']\n",
    "    \n",
    "    print('Categorical columns:\\n',np.array(catfeat),'\\n')\n",
    "    \n",
    "    print('Dataframe shape before trimming:',data.shape)\n",
    "    print('\\nDropping following columns:\\n',np.array(drop_lst))\n",
    "    data = data.drop(drop_lst,axis=1)\n",
    "    print('\\nDataframe shape after trimming:',data.shape)\n",
    "\n",
    "    # Feature Engineering for Src and Dst IPs\n",
    "    print('Feature engineering for Source and Destination IPs...')\n",
    "    data['Src IP'] = data['Src IP'].progress_apply(lambda x: int(('').join(x.split('.'))))\n",
    "    data['Dst IP'] = data['Dst IP'].progress_apply(lambda x: int(('').join(x.split('.'))))\n",
    "    \n",
    "    # data Normalization\n",
    "    print('Normalizing data of columns:')\n",
    "    lst = [i for i in data.columns if i not in catfeat]\n",
    "    print(np.array(lst))\n",
    "\n",
    "    scaler = None\n",
    "    if os.path.isfile('MinMaxScaler.pkl'):\n",
    "        infile = open('MinMaxScaler.pkl','rb')\n",
    "        scaler = pickle.load(infile)\n",
    "        infile.close()\n",
    "    else:\n",
    "        print('MinMaxScaler pickle file missing!!\\n Terminating Process...')\n",
    "        return\n",
    "    \n",
    "    data = scaler.transform(data)\n",
    "    \n",
    "    # loading pretrained model for prediction\n",
    "    model = None\n",
    "    if os.path.isfile('ADB.pkl'):\n",
    "        infile = open('ADB.pkl','rb')\n",
    "        model = pickle.load(infile)\n",
    "        infile.close()\n",
    "    else:\n",
    "        print('Pre-trained model pickle file missing!! \\n Terminating Process...')\n",
    "        return\n",
    "    print('\\n')\n",
    "    print('='*100)\n",
    "    print('Final shape of input data')\n",
    "    print(data.shape)\n",
    "    \n",
    "    print('='*100)\n",
    "    # predicting y\n",
    "    print('Predicting labels...')\n",
    "    ypred = model.predict(data)\n",
    "    \n",
    "    return ypred"
   ]
  },
  {
   "cell_type": "markdown",
   "metadata": {},
   "source": [
    "## Function 2:\n",
    "<font size=4>\n",
    "    <ul>\n",
    "        <li>This function includes entire pipeline, from data preprocessing to returning model metric score</li>\n",
    "        <li>Take in raw data as input along with its target values and returns binary f1 score.</li>\n",
    "    </ul>\n",
    "</font>"
   ]
  },
  {
   "cell_type": "code",
   "execution_count": 43,
   "metadata": {},
   "outputs": [],
   "source": [
    "'''\n",
    "    This function includes entire pipeline, from data preprocessing to making final predictions\n",
    "    take in raw data as input along with its target values and returns binary f1 score.\n",
    "'''\n",
    "\n",
    "def function_2(X,Y):\n",
    "    # label prediction\n",
    "    y_pred = function_1(X)\n",
    "    print('predicted label:',y_pred)\n",
    "    # changing labels into 0 or 1\n",
    "    y = [0 if i=='Benign' else 1 for i in Y]\n",
    "    print('='*100)\n",
    "    print('ytrue:', np.array(y))\n",
    "    print('='*100)\n",
    "    return f1_score(y_pred, y)"
   ]
  },
  {
   "cell_type": "markdown",
   "metadata": {},
   "source": [
    "## Reading csv for function testing:"
   ]
  },
  {
   "cell_type": "code",
   "execution_count": 5,
   "metadata": {},
   "outputs": [
    {
     "name": "stdout",
     "output_type": "stream",
     "text": [
      "(7616509, 84)\n",
      "(7616509,)\n"
     ]
    }
   ],
   "source": [
    "X = pd.read_csv('unbalaced_20_80_dataset.csv')\n",
    "columns = X.columns.values\n",
    "Y = X['Label']\n",
    "X.drop(['Label'], axis=1, inplace=True)\n",
    "print(X.shape)\n",
    "print(Y.shape)"
   ]
  },
  {
   "cell_type": "markdown",
   "metadata": {},
   "source": [
    "## Testing the 1st Function"
   ]
  },
  {
   "cell_type": "markdown",
   "metadata": {},
   "source": [
    "#### Case 1: Predicting multiple data points"
   ]
  },
  {
   "cell_type": "code",
   "execution_count": 5,
   "metadata": {},
   "outputs": [
    {
     "name": "stdout",
     "output_type": "stream",
     "text": [
      "\n",
      "\n",
      "====================================================================================================\n",
      "Data preprocessing...\n",
      "Checking for null values...\n",
      "Columns with null values:\n",
      " ['Flow Byts/s', 'Flow Pkts/s'] \n",
      "\n",
      "Categorical columns:\n",
      " ['Fwd PSH Flags' 'Bwd PSH Flags' 'FIN Flag Cnt' 'SYN Flag Cnt'\n",
      " 'RST Flag Cnt' 'PSH Flag Cnt' 'ACK Flag Cnt' 'URG Flag Cnt'\n",
      " 'CWE Flag Count' 'ECE Flag Cnt'] \n",
      "\n",
      "Dataframe shape before trimming: (7616509, 84)\n",
      "\n",
      "Dropping following columns:\n",
      " ['Fwd URG Flags' 'Bwd URG Flags' 'Fwd Byts/b Avg' 'Fwd Pkts/b Avg'\n",
      " 'Fwd Blk Rate Avg' 'Bwd Byts/b Avg' 'Bwd Pkts/b Avg' 'Bwd Blk Rate Avg'\n",
      " 'Flow ID' 'Timestamp' 'Unnamed: 0']\n",
      "\n",
      "Dataframe shape after trimming: (7616509, 73)\n",
      "Feature engineering for Source and Destination IPs...\n"
     ]
    },
    {
     "data": {
      "application/vnd.jupyter.widget-view+json": {
       "model_id": "ae9d7f7e788f44f9b2e2edbfe6e3c16d",
       "version_major": 2,
       "version_minor": 0
      },
      "text/plain": [
       "HBox(children=(FloatProgress(value=0.0, max=7616509.0), HTML(value='')))"
      ]
     },
     "metadata": {},
     "output_type": "display_data"
    },
    {
     "name": "stdout",
     "output_type": "stream",
     "text": [
      "\n"
     ]
    },
    {
     "data": {
      "application/vnd.jupyter.widget-view+json": {
       "model_id": "db70ad87e016455794534b8d8e263ca9",
       "version_major": 2,
       "version_minor": 0
      },
      "text/plain": [
       "HBox(children=(FloatProgress(value=0.0, max=7616509.0), HTML(value='')))"
      ]
     },
     "metadata": {},
     "output_type": "display_data"
    },
    {
     "name": "stdout",
     "output_type": "stream",
     "text": [
      "\n",
      "Normalizing data of columns:\n",
      "['Src IP' 'Src Port' 'Dst IP' 'Dst Port' 'Protocol' 'Flow Duration'\n",
      " 'Tot Fwd Pkts' 'Tot Bwd Pkts' 'TotLen Fwd Pkts' 'TotLen Bwd Pkts'\n",
      " 'Fwd Pkt Len Max' 'Fwd Pkt Len Min' 'Fwd Pkt Len Mean' 'Fwd Pkt Len Std'\n",
      " 'Bwd Pkt Len Max' 'Bwd Pkt Len Min' 'Bwd Pkt Len Mean' 'Bwd Pkt Len Std'\n",
      " 'Flow Byts/s' 'Flow Pkts/s' 'Flow IAT Mean' 'Flow IAT Std' 'Flow IAT Max'\n",
      " 'Flow IAT Min' 'Fwd IAT Tot' 'Fwd IAT Mean' 'Fwd IAT Std' 'Fwd IAT Max'\n",
      " 'Fwd IAT Min' 'Bwd IAT Tot' 'Bwd IAT Mean' 'Bwd IAT Std' 'Bwd IAT Max'\n",
      " 'Bwd IAT Min' 'Fwd Header Len' 'Bwd Header Len' 'Fwd Pkts/s' 'Bwd Pkts/s'\n",
      " 'Pkt Len Min' 'Pkt Len Max' 'Pkt Len Mean' 'Pkt Len Std' 'Pkt Len Var'\n",
      " 'Down/Up Ratio' 'Pkt Size Avg' 'Fwd Seg Size Avg' 'Bwd Seg Size Avg'\n",
      " 'Subflow Fwd Pkts' 'Subflow Fwd Byts' 'Subflow Bwd Pkts'\n",
      " 'Subflow Bwd Byts' 'Init Fwd Win Byts' 'Init Bwd Win Byts'\n",
      " 'Fwd Act Data Pkts' 'Fwd Seg Size Min' 'Active Mean' 'Active Std'\n",
      " 'Active Max' 'Active Min' 'Idle Mean' 'Idle Std' 'Idle Max' 'Idle Min']\n",
      "\n",
      "\n",
      "====================================================================================================\n",
      "Final shape of input data\n",
      "(7616509, 73)\n",
      "====================================================================================================\n",
      "Predicting labels...\n",
      "y_pred shape (7616509,)\n"
     ]
    }
   ],
   "source": [
    "y_pred = function_1(X)\n",
    "print('y_pred shape',y_pred.shape)"
   ]
  },
  {
   "cell_type": "markdown",
   "metadata": {},
   "source": [
    "#### Case 2: Predicting single data points"
   ]
  },
  {
   "cell_type": "code",
   "execution_count": 41,
   "metadata": {},
   "outputs": [
    {
     "name": "stdout",
     "output_type": "stream",
     "text": [
      "Input shape: (1, 84)\n",
      "====================================================================================================\n",
      "Data preprocessing...\n",
      "Checking for null values...\n",
      "Columns with null values:\n",
      " [] \n",
      "\n",
      "Categorical columns:\n",
      " ['Fwd PSH Flags' 'Bwd PSH Flags' 'FIN Flag Cnt' 'SYN Flag Cnt'\n",
      " 'RST Flag Cnt' 'PSH Flag Cnt' 'ACK Flag Cnt' 'URG Flag Cnt'\n",
      " 'CWE Flag Count' 'ECE Flag Cnt'] \n",
      "\n",
      "Dataframe shape before trimming: (1, 84)\n",
      "\n",
      "Dropping following columns:\n",
      " ['Fwd URG Flags' 'Bwd URG Flags' 'Fwd Byts/b Avg' 'Fwd Pkts/b Avg'\n",
      " 'Fwd Blk Rate Avg' 'Bwd Byts/b Avg' 'Bwd Pkts/b Avg' 'Bwd Blk Rate Avg'\n",
      " 'Flow ID' 'Timestamp' 'Unnamed: 0']\n",
      "\n",
      "Dataframe shape after trimming: (1, 73)\n",
      "Feature engineering for Source and Destination IPs...\n"
     ]
    },
    {
     "data": {
      "application/vnd.jupyter.widget-view+json": {
       "model_id": "ef9cbfb5535643f5986cce1d5539494d",
       "version_major": 2,
       "version_minor": 0
      },
      "text/plain": [
       "HBox(children=(FloatProgress(value=0.0, max=1.0), HTML(value='')))"
      ]
     },
     "metadata": {},
     "output_type": "display_data"
    },
    {
     "name": "stdout",
     "output_type": "stream",
     "text": [
      "\n"
     ]
    },
    {
     "data": {
      "application/vnd.jupyter.widget-view+json": {
       "model_id": "c641b4a288a04646b0748a7f7c89932d",
       "version_major": 2,
       "version_minor": 0
      },
      "text/plain": [
       "HBox(children=(FloatProgress(value=0.0, max=1.0), HTML(value='')))"
      ]
     },
     "metadata": {},
     "output_type": "display_data"
    },
    {
     "name": "stdout",
     "output_type": "stream",
     "text": [
      "\n",
      "Normalizing data of columns:\n",
      "['Src IP' 'Src Port' 'Dst IP' 'Dst Port' 'Protocol' 'Flow Duration'\n",
      " 'Tot Fwd Pkts' 'Tot Bwd Pkts' 'TotLen Fwd Pkts' 'TotLen Bwd Pkts'\n",
      " 'Fwd Pkt Len Max' 'Fwd Pkt Len Min' 'Fwd Pkt Len Mean' 'Fwd Pkt Len Std'\n",
      " 'Bwd Pkt Len Max' 'Bwd Pkt Len Min' 'Bwd Pkt Len Mean' 'Bwd Pkt Len Std'\n",
      " 'Flow Byts/s' 'Flow Pkts/s' 'Flow IAT Mean' 'Flow IAT Std' 'Flow IAT Max'\n",
      " 'Flow IAT Min' 'Fwd IAT Tot' 'Fwd IAT Mean' 'Fwd IAT Std' 'Fwd IAT Max'\n",
      " 'Fwd IAT Min' 'Bwd IAT Tot' 'Bwd IAT Mean' 'Bwd IAT Std' 'Bwd IAT Max'\n",
      " 'Bwd IAT Min' 'Fwd Header Len' 'Bwd Header Len' 'Fwd Pkts/s' 'Bwd Pkts/s'\n",
      " 'Pkt Len Min' 'Pkt Len Max' 'Pkt Len Mean' 'Pkt Len Std' 'Pkt Len Var'\n",
      " 'Down/Up Ratio' 'Pkt Size Avg' 'Fwd Seg Size Avg' 'Bwd Seg Size Avg'\n",
      " 'Subflow Fwd Pkts' 'Subflow Fwd Byts' 'Subflow Bwd Pkts'\n",
      " 'Subflow Bwd Byts' 'Init Fwd Win Byts' 'Init Bwd Win Byts'\n",
      " 'Fwd Act Data Pkts' 'Fwd Seg Size Min' 'Active Mean' 'Active Std'\n",
      " 'Active Max' 'Active Min' 'Idle Mean' 'Idle Std' 'Idle Max' 'Idle Min']\n",
      "\n",
      "\n",
      "====================================================================================================\n",
      "Final shape of input data\n",
      "(1, 73)\n",
      "====================================================================================================\n",
      "Predicting labels...\n",
      "y_pred: [1]\n",
      "ytrue: ddos\n",
      "CPU times: user 188 ms, sys: 19.1 ms, total: 208 ms\n",
      "Wall time: 176 ms\n"
     ]
    }
   ],
   "source": [
    "%%time\n",
    "\n",
    "indx=99999\n",
    "row = X.iloc[indx].values.reshape(1,-1)\n",
    "ytrue = Y.iloc[indx]\n",
    "y_pred = function_1(row)\n",
    "print('y_pred:',y_pred)\n",
    "print('ytrue:',ytrue)"
   ]
  },
  {
   "cell_type": "markdown",
   "metadata": {},
   "source": [
    "## Testing the 2nd Function"
   ]
  },
  {
   "cell_type": "markdown",
   "metadata": {},
   "source": [
    "#### Case 1: Calculating score for multiple data points"
   ]
  },
  {
   "cell_type": "code",
   "execution_count": 7,
   "metadata": {},
   "outputs": [
    {
     "name": "stdout",
     "output_type": "stream",
     "text": [
      "\n",
      "\n",
      "====================================================================================================\n",
      "Data preprocessing...\n",
      "Checking for null values...\n",
      "Columns with null values:\n",
      " ['Flow Byts/s', 'Flow Pkts/s'] \n",
      "\n",
      "Categorical columns:\n",
      " ['Fwd PSH Flags' 'Bwd PSH Flags' 'FIN Flag Cnt' 'SYN Flag Cnt'\n",
      " 'RST Flag Cnt' 'PSH Flag Cnt' 'ACK Flag Cnt' 'URG Flag Cnt'\n",
      " 'CWE Flag Count' 'ECE Flag Cnt'] \n",
      "\n",
      "Dataframe shape before trimming: (7616509, 84)\n",
      "\n",
      "Dropping following columns:\n",
      " ['Fwd URG Flags' 'Bwd URG Flags' 'Fwd Byts/b Avg' 'Fwd Pkts/b Avg'\n",
      " 'Fwd Blk Rate Avg' 'Bwd Byts/b Avg' 'Bwd Pkts/b Avg' 'Bwd Blk Rate Avg'\n",
      " 'Flow ID' 'Timestamp' 'Unnamed: 0']\n",
      "\n",
      "Dataframe shape after trimming: (7616509, 73)\n",
      "Feature engineering for Source and Destination IPs...\n"
     ]
    },
    {
     "data": {
      "application/vnd.jupyter.widget-view+json": {
       "model_id": "0c56760e810e4f4b88bcf385864d663e",
       "version_major": 2,
       "version_minor": 0
      },
      "text/plain": [
       "HBox(children=(FloatProgress(value=0.0, max=7616509.0), HTML(value='')))"
      ]
     },
     "metadata": {},
     "output_type": "display_data"
    },
    {
     "name": "stdout",
     "output_type": "stream",
     "text": [
      "\n"
     ]
    },
    {
     "data": {
      "application/vnd.jupyter.widget-view+json": {
       "model_id": "2c628a072f154186b02a5ccbd704357b",
       "version_major": 2,
       "version_minor": 0
      },
      "text/plain": [
       "HBox(children=(FloatProgress(value=0.0, max=7616509.0), HTML(value='')))"
      ]
     },
     "metadata": {},
     "output_type": "display_data"
    },
    {
     "name": "stdout",
     "output_type": "stream",
     "text": [
      "\n",
      "Normalizing data of columns:\n",
      "['Src IP' 'Src Port' 'Dst IP' 'Dst Port' 'Protocol' 'Flow Duration'\n",
      " 'Tot Fwd Pkts' 'Tot Bwd Pkts' 'TotLen Fwd Pkts' 'TotLen Bwd Pkts'\n",
      " 'Fwd Pkt Len Max' 'Fwd Pkt Len Min' 'Fwd Pkt Len Mean' 'Fwd Pkt Len Std'\n",
      " 'Bwd Pkt Len Max' 'Bwd Pkt Len Min' 'Bwd Pkt Len Mean' 'Bwd Pkt Len Std'\n",
      " 'Flow Byts/s' 'Flow Pkts/s' 'Flow IAT Mean' 'Flow IAT Std' 'Flow IAT Max'\n",
      " 'Flow IAT Min' 'Fwd IAT Tot' 'Fwd IAT Mean' 'Fwd IAT Std' 'Fwd IAT Max'\n",
      " 'Fwd IAT Min' 'Bwd IAT Tot' 'Bwd IAT Mean' 'Bwd IAT Std' 'Bwd IAT Max'\n",
      " 'Bwd IAT Min' 'Fwd Header Len' 'Bwd Header Len' 'Fwd Pkts/s' 'Bwd Pkts/s'\n",
      " 'Pkt Len Min' 'Pkt Len Max' 'Pkt Len Mean' 'Pkt Len Std' 'Pkt Len Var'\n",
      " 'Down/Up Ratio' 'Pkt Size Avg' 'Fwd Seg Size Avg' 'Bwd Seg Size Avg'\n",
      " 'Subflow Fwd Pkts' 'Subflow Fwd Byts' 'Subflow Bwd Pkts'\n",
      " 'Subflow Bwd Byts' 'Init Fwd Win Byts' 'Init Bwd Win Byts'\n",
      " 'Fwd Act Data Pkts' 'Fwd Seg Size Min' 'Active Mean' 'Active Std'\n",
      " 'Active Max' 'Active Min' 'Idle Mean' 'Idle Std' 'Idle Max' 'Idle Min']\n",
      "\n",
      "\n",
      "====================================================================================================\n",
      "Final shape of input data\n",
      "(7616509, 73)\n",
      "====================================================================================================\n",
      "Predicting labels...\n",
      "predicted label: [1 1 1 ... 0 0 0]\n",
      "====================================================================================================\n",
      "ytrue: [1 1 1 ... 0 0 0]\n",
      "====================================================================================================\n",
      "0.9999969100706976\n"
     ]
    }
   ],
   "source": [
    "score = function_2(X,Y)\n",
    "print(score)"
   ]
  },
  {
   "cell_type": "markdown",
   "metadata": {},
   "source": [
    "#### Case 2: Calculating score for single data points"
   ]
  },
  {
   "cell_type": "code",
   "execution_count": 44,
   "metadata": {},
   "outputs": [
    {
     "name": "stdout",
     "output_type": "stream",
     "text": [
      "Input shape: (1, 84)\n",
      "====================================================================================================\n",
      "Data preprocessing...\n",
      "Checking for null values...\n",
      "Columns with null values:\n",
      " [] \n",
      "\n",
      "Categorical columns:\n",
      " ['Fwd PSH Flags' 'Bwd PSH Flags' 'FIN Flag Cnt' 'SYN Flag Cnt'\n",
      " 'RST Flag Cnt' 'PSH Flag Cnt' 'ACK Flag Cnt' 'URG Flag Cnt'\n",
      " 'CWE Flag Count' 'ECE Flag Cnt'] \n",
      "\n",
      "Dataframe shape before trimming: (1, 84)\n",
      "\n",
      "Dropping following columns:\n",
      " ['Fwd URG Flags' 'Bwd URG Flags' 'Fwd Byts/b Avg' 'Fwd Pkts/b Avg'\n",
      " 'Fwd Blk Rate Avg' 'Bwd Byts/b Avg' 'Bwd Pkts/b Avg' 'Bwd Blk Rate Avg'\n",
      " 'Flow ID' 'Timestamp' 'Unnamed: 0']\n",
      "\n",
      "Dataframe shape after trimming: (1, 73)\n",
      "Feature engineering for Source and Destination IPs...\n"
     ]
    },
    {
     "data": {
      "application/vnd.jupyter.widget-view+json": {
       "model_id": "98f32501a6d84638b1e3065abbe62936",
       "version_major": 2,
       "version_minor": 0
      },
      "text/plain": [
       "HBox(children=(FloatProgress(value=0.0, max=1.0), HTML(value='')))"
      ]
     },
     "metadata": {},
     "output_type": "display_data"
    },
    {
     "name": "stdout",
     "output_type": "stream",
     "text": [
      "\n"
     ]
    },
    {
     "data": {
      "application/vnd.jupyter.widget-view+json": {
       "model_id": "a4e10cfed8ed431788afbc64c046ad21",
       "version_major": 2,
       "version_minor": 0
      },
      "text/plain": [
       "HBox(children=(FloatProgress(value=0.0, max=1.0), HTML(value='')))"
      ]
     },
     "metadata": {},
     "output_type": "display_data"
    },
    {
     "name": "stdout",
     "output_type": "stream",
     "text": [
      "\n",
      "Normalizing data of columns:\n",
      "['Src IP' 'Src Port' 'Dst IP' 'Dst Port' 'Protocol' 'Flow Duration'\n",
      " 'Tot Fwd Pkts' 'Tot Bwd Pkts' 'TotLen Fwd Pkts' 'TotLen Bwd Pkts'\n",
      " 'Fwd Pkt Len Max' 'Fwd Pkt Len Min' 'Fwd Pkt Len Mean' 'Fwd Pkt Len Std'\n",
      " 'Bwd Pkt Len Max' 'Bwd Pkt Len Min' 'Bwd Pkt Len Mean' 'Bwd Pkt Len Std'\n",
      " 'Flow Byts/s' 'Flow Pkts/s' 'Flow IAT Mean' 'Flow IAT Std' 'Flow IAT Max'\n",
      " 'Flow IAT Min' 'Fwd IAT Tot' 'Fwd IAT Mean' 'Fwd IAT Std' 'Fwd IAT Max'\n",
      " 'Fwd IAT Min' 'Bwd IAT Tot' 'Bwd IAT Mean' 'Bwd IAT Std' 'Bwd IAT Max'\n",
      " 'Bwd IAT Min' 'Fwd Header Len' 'Bwd Header Len' 'Fwd Pkts/s' 'Bwd Pkts/s'\n",
      " 'Pkt Len Min' 'Pkt Len Max' 'Pkt Len Mean' 'Pkt Len Std' 'Pkt Len Var'\n",
      " 'Down/Up Ratio' 'Pkt Size Avg' 'Fwd Seg Size Avg' 'Bwd Seg Size Avg'\n",
      " 'Subflow Fwd Pkts' 'Subflow Fwd Byts' 'Subflow Bwd Pkts'\n",
      " 'Subflow Bwd Byts' 'Init Fwd Win Byts' 'Init Bwd Win Byts'\n",
      " 'Fwd Act Data Pkts' 'Fwd Seg Size Min' 'Active Mean' 'Active Std'\n",
      " 'Active Max' 'Active Min' 'Idle Mean' 'Idle Std' 'Idle Max' 'Idle Min']\n",
      "\n",
      "\n",
      "====================================================================================================\n",
      "Final shape of input data\n",
      "(1, 73)\n",
      "====================================================================================================\n",
      "Predicting labels...\n",
      "predicted label: [0]\n",
      "====================================================================================================\n",
      "ytrue: [0]\n",
      "====================================================================================================\n",
      "f1 score*: 0.0\n",
      "CPU times: user 202 ms, sys: 9.1 ms, total: 211 ms\n",
      "Wall time: 194 ms\n"
     ]
    }
   ],
   "source": [
    "%%time\n",
    "\n",
    "indx=1313131\n",
    "# row = X.iloc[indx].to_frame().transpose()\n",
    "row = row = X.iloc[indx].values.reshape(1,-1)\n",
    "ytrue=[]\n",
    "ytrue.append(Y.iloc[indx])\n",
    "\n",
    "score = function_2(row, ytrue)\n",
    "print('f1 score*:',score)"
   ]
  },
  {
   "cell_type": "markdown",
   "metadata": {},
   "source": [
    "<br>\n",
    "<br>\n",
    "<br>\n",
    "<hr>"
   ]
  },
  {
   "cell_type": "markdown",
   "metadata": {},
   "source": [
    "## Note:\n",
    "<hr>\n",
    "<font size=4>\n",
    "Since, f1 score is basically the harmonic mean of precision and recall i.e.\n",
    "</font>"
   ]
  },
  {
   "attachments": {
    "image.png": {
     "image/png": "[encoded data removed]"
    }
   },
   "cell_type": "markdown",
   "metadata": {},
   "source": [
    "![image.png](attachment:image.png)"
   ]
  },
  {
   "cell_type": "markdown",
   "metadata": {},
   "source": [
    "<font size=4>\n",
    "So, even if True Negative ('Benign' in our case) labels are correctly classified, then also f1_score will be zero(0) because TP, FP and FN all will be zero. Therefore, in above last test case f1 score is zero.\n",
    "</font>"
   ]
  }
 ],
 "metadata": {
  "environment": {
   "name": "tf2-2-3-gpu.2-3.m56",
   "type": "gcloud",
   "uri": "gcr.io/deeplearning-platform-release/tf2-2-3-gpu.2-3:m56"
  },
  "kernelspec": {
   "display_name": "Python 3",
   "language": "python",
   "name": "python3"
  },
  "language_info": {
   "codemirror_mode": {
    "name": "ipython",
    "version": 3
   },
   "file_extension": ".py",
   "mimetype": "text/x-python",
   "name": "python",
   "nbconvert_exporter": "python",
   "pygments_lexer": "ipython3",
   "version": "3.7.8"
  }
 },
 "nbformat": 4,
 "nbformat_minor": 4
}
